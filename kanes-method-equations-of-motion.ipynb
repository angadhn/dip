{
 "cells": [
  {
   "cell_type": "code",
   "execution_count": 28,
   "id": "hybrid-cancer",
   "metadata": {},
   "outputs": [],
   "source": [
    "from sympy import symbols\n",
    "from sympy.physics.mechanics import *"
   ]
  },
  {
   "cell_type": "code",
   "execution_count": 29,
   "id": "informal-minority",
   "metadata": {},
   "outputs": [],
   "source": [
    "n = 2  # number of pendulums"
   ]
  },
  {
   "cell_type": "code",
   "execution_count": 30,
   "id": "technological-keeping",
   "metadata": {},
   "outputs": [],
   "source": [
    "q = dynamicsymbols('q:' + str(n + 1))  # Generalized coordinates\n",
    "u = dynamicsymbols('u:' + str(n + 1))  # Generalized speeds\n",
    "f = dynamicsymbols('f')                # Force applied to the cart\n",
    "\n",
    "m = symbols('m:' + str(n + 1))         # Mass of each bob\n",
    "l = symbols('l:' + str(n))             # Length of each link\n",
    "g, t = symbols('g t')                  # Gravity and time"
   ]
  },
  {
   "cell_type": "code",
   "execution_count": 31,
   "id": "hairy-governor",
   "metadata": {},
   "outputs": [],
   "source": [
    "I = ReferenceFrame('I')                # Inertial reference frame\n",
    "O = Point('O')                         # Origin point\n",
    "O.set_vel(I, 0)                        # Origin's velocity is zero"
   ]
  },
  {
   "cell_type": "code",
   "execution_count": 32,
   "id": "requested-asset",
   "metadata": {},
   "outputs": [],
   "source": [
    "P0 = Point('P0')                       # Hinge point of top link\n",
    "P0.set_pos(O, q[0] * I.x)              # Set the position of P0    \n",
    "P0.set_vel(I, u[0] * I.x)              # Set the velocity of P0\n",
    "Pa0 = Particle('Pa0', P0, m[0])        # Define a particle at P0"
   ]
  },
  {
   "cell_type": "code",
   "execution_count": 33,
   "id": "vertical-identification",
   "metadata": {},
   "outputs": [],
   "source": [
    "frames = [I]                              # List to hold the n + 1 frames\n",
    "points = [P0]                             # List to hold the n + 1 points\n",
    "particles = [Pa0]                         # List to hold the n + 1 particles\n",
    "forces = [(P0, f * I.x - m[0] * g * I.y)] # List to hold the n + 1 applied forces, including the input force, f\n",
    "kindiffs = [q[0].diff(t) - u[0]]          # List to hold kinematic ODE's\n",
    "\n",
    "for i in range(n):\n",
    "    Bi = I.orientnew('B' + str(i), 'Axis', [q[i + 1], I.z])   # Create a new frame\n",
    "    Bi.set_ang_vel(I, u[i + 1] * I.z)                         # Set angular velocity\n",
    "    frames.append(Bi)                                         # Add it to the frames list\n",
    "\n",
    "    Pi = points[-1].locatenew('P' + str(i + 1), l[i] * Bi.x)  # Create a new point\n",
    "    Pi.v2pt_theory(points[-1], I, Bi)                         # Set the velocity\n",
    "    points.append(Pi)                                         # Add it to the points list\n",
    "\n",
    "    Pai = Particle('Pa' + str(i + 1), Pi, m[i + 1])           # Create a new particle\n",
    "    particles.append(Pai)                                     # Add it to the particles list\n",
    "\n",
    "    forces.append((Pi, -m[i + 1] * g * I.y))                  # Set the force applied at the point\n",
    "\n",
    "    kindiffs.append(q[i + 1].diff(t) - u[i + 1])              # Define the kinematic ODE:  dq_i / dt - u_i = 0"
   ]
  },
  {
   "cell_type": "code",
   "execution_count": 34,
   "id": "danish-smile",
   "metadata": {},
   "outputs": [],
   "source": [
    "kane = KanesMethod(I, q_ind=q, u_ind=u, kd_eqs=kindiffs) # Initialize the object\n",
    "fr, frstar = kane.kanes_equations(particles, forces)     # Generate EoM's fr + frstar = 0"
   ]
  },
  {
   "cell_type": "code",
   "execution_count": 35,
   "id": "through-india",
   "metadata": {},
   "outputs": [
    {
     "data": {
      "text/latex": [
       "$\\displaystyle \\left[\\begin{matrix}f{\\left(t \\right)}\\\\- g l_{0} m_{1} \\cos{\\left(\\operatorname{q_{1}}{\\left(t \\right)} \\right)} - g l_{0} m_{2} \\cos{\\left(\\operatorname{q_{1}}{\\left(t \\right)} \\right)}\\\\- g l_{1} m_{2} \\cos{\\left(\\operatorname{q_{2}}{\\left(t \\right)} \\right)}\\end{matrix}\\right]$"
      ],
      "text/plain": [
       "Matrix([\n",
       "[                                    f(t)],\n",
       "[-g*l0*m1*cos(q1(t)) - g*l0*m2*cos(q1(t))],\n",
       "[                     -g*l1*m2*cos(q2(t))]])"
      ]
     },
     "execution_count": 35,
     "metadata": {},
     "output_type": "execute_result"
    }
   ],
   "source": [
    "fr"
   ]
  },
  {
   "cell_type": "code",
   "execution_count": 36,
   "id": "needed-blank",
   "metadata": {},
   "outputs": [
    {
     "data": {
      "text/latex": [
       "$\\displaystyle \\left[\\begin{matrix}l_{0} m_{1} \\operatorname{u_{1}}^{2}{\\left(t \\right)} \\cos{\\left(\\operatorname{q_{1}}{\\left(t \\right)} \\right)} + l_{0} m_{2} \\operatorname{u_{1}}^{2}{\\left(t \\right)} \\cos{\\left(\\operatorname{q_{1}}{\\left(t \\right)} \\right)} + l_{1} m_{2} \\operatorname{u_{2}}^{2}{\\left(t \\right)} \\cos{\\left(\\operatorname{q_{2}}{\\left(t \\right)} \\right)} + l_{1} m_{2} \\sin{\\left(\\operatorname{q_{2}}{\\left(t \\right)} \\right)} \\frac{d}{d t} \\operatorname{u_{2}}{\\left(t \\right)} - \\left(- l_{0} m_{1} \\sin{\\left(\\operatorname{q_{1}}{\\left(t \\right)} \\right)} - l_{0} m_{2} \\sin{\\left(\\operatorname{q_{1}}{\\left(t \\right)} \\right)}\\right) \\frac{d}{d t} \\operatorname{u_{1}}{\\left(t \\right)} - \\left(m_{0} + m_{1} + m_{2}\\right) \\frac{d}{d t} \\operatorname{u_{0}}{\\left(t \\right)}\\\\- l_{0} l_{1} m_{2} \\left(\\sin{\\left(\\operatorname{q_{1}}{\\left(t \\right)} \\right)} \\sin{\\left(\\operatorname{q_{2}}{\\left(t \\right)} \\right)} + \\cos{\\left(\\operatorname{q_{1}}{\\left(t \\right)} \\right)} \\cos{\\left(\\operatorname{q_{2}}{\\left(t \\right)} \\right)}\\right) \\frac{d}{d t} \\operatorname{u_{2}}{\\left(t \\right)} + l_{0} l_{1} m_{2} \\left(- \\sin{\\left(\\operatorname{q_{1}}{\\left(t \\right)} \\right)} \\cos{\\left(\\operatorname{q_{2}}{\\left(t \\right)} \\right)} + \\sin{\\left(\\operatorname{q_{2}}{\\left(t \\right)} \\right)} \\cos{\\left(\\operatorname{q_{1}}{\\left(t \\right)} \\right)}\\right) \\operatorname{u_{2}}^{2}{\\left(t \\right)} - \\left(l_{0}^{2} m_{1} + l_{0}^{2} m_{2}\\right) \\frac{d}{d t} \\operatorname{u_{1}}{\\left(t \\right)} - \\left(- l_{0} m_{1} \\sin{\\left(\\operatorname{q_{1}}{\\left(t \\right)} \\right)} - l_{0} m_{2} \\sin{\\left(\\operatorname{q_{1}}{\\left(t \\right)} \\right)}\\right) \\frac{d}{d t} \\operatorname{u_{0}}{\\left(t \\right)}\\\\- l_{0} l_{1} m_{2} \\left(\\sin{\\left(\\operatorname{q_{1}}{\\left(t \\right)} \\right)} \\sin{\\left(\\operatorname{q_{2}}{\\left(t \\right)} \\right)} + \\cos{\\left(\\operatorname{q_{1}}{\\left(t \\right)} \\right)} \\cos{\\left(\\operatorname{q_{2}}{\\left(t \\right)} \\right)}\\right) \\frac{d}{d t} \\operatorname{u_{1}}{\\left(t \\right)} + l_{0} l_{1} m_{2} \\left(\\sin{\\left(\\operatorname{q_{1}}{\\left(t \\right)} \\right)} \\cos{\\left(\\operatorname{q_{2}}{\\left(t \\right)} \\right)} - \\sin{\\left(\\operatorname{q_{2}}{\\left(t \\right)} \\right)} \\cos{\\left(\\operatorname{q_{1}}{\\left(t \\right)} \\right)}\\right) \\operatorname{u_{1}}^{2}{\\left(t \\right)} - l_{1}^{2} m_{2} \\frac{d}{d t} \\operatorname{u_{2}}{\\left(t \\right)} + l_{1} m_{2} \\sin{\\left(\\operatorname{q_{2}}{\\left(t \\right)} \\right)} \\frac{d}{d t} \\operatorname{u_{0}}{\\left(t \\right)}\\end{matrix}\\right]$"
      ],
      "text/plain": [
       "Matrix([\n",
       "[                                 l0*m1*u1(t)**2*cos(q1(t)) + l0*m2*u1(t)**2*cos(q1(t)) + l1*m2*u2(t)**2*cos(q2(t)) + l1*m2*sin(q2(t))*Derivative(u2(t), t) - (-l0*m1*sin(q1(t)) - l0*m2*sin(q1(t)))*Derivative(u1(t), t) - (m0 + m1 + m2)*Derivative(u0(t), t)],\n",
       "[-l0*l1*m2*(sin(q1(t))*sin(q2(t)) + cos(q1(t))*cos(q2(t)))*Derivative(u2(t), t) + l0*l1*m2*(-sin(q1(t))*cos(q2(t)) + sin(q2(t))*cos(q1(t)))*u2(t)**2 - (l0**2*m1 + l0**2*m2)*Derivative(u1(t), t) - (-l0*m1*sin(q1(t)) - l0*m2*sin(q1(t)))*Derivative(u0(t), t)],\n",
       "[                                    -l0*l1*m2*(sin(q1(t))*sin(q2(t)) + cos(q1(t))*cos(q2(t)))*Derivative(u1(t), t) + l0*l1*m2*(sin(q1(t))*cos(q2(t)) - sin(q2(t))*cos(q1(t)))*u1(t)**2 - l1**2*m2*Derivative(u2(t), t) + l1*m2*sin(q2(t))*Derivative(u0(t), t)]])"
      ]
     },
     "execution_count": 36,
     "metadata": {},
     "output_type": "execute_result"
    }
   ],
   "source": [
    "frstar"
   ]
  },
  {
   "cell_type": "code",
   "execution_count": 37,
   "id": "potential-edinburgh",
   "metadata": {},
   "outputs": [
    {
     "data": {
      "text/latex": [
       "$\\displaystyle \\left[\\begin{matrix}m_{0} + m_{1} + m_{2} & - l_{0} m_{1} \\sin{\\left(\\operatorname{q_{1}}{\\left(t \\right)} \\right)} - l_{0} m_{2} \\sin{\\left(\\operatorname{q_{1}}{\\left(t \\right)} \\right)} & - l_{1} m_{2} \\sin{\\left(\\operatorname{q_{2}}{\\left(t \\right)} \\right)}\\\\- l_{0} m_{1} \\sin{\\left(\\operatorname{q_{1}}{\\left(t \\right)} \\right)} - l_{0} m_{2} \\sin{\\left(\\operatorname{q_{1}}{\\left(t \\right)} \\right)} & l_{0}^{2} m_{1} + l_{0}^{2} m_{2} & l_{0} l_{1} m_{2} \\left(\\sin{\\left(\\operatorname{q_{1}}{\\left(t \\right)} \\right)} \\sin{\\left(\\operatorname{q_{2}}{\\left(t \\right)} \\right)} + \\cos{\\left(\\operatorname{q_{1}}{\\left(t \\right)} \\right)} \\cos{\\left(\\operatorname{q_{2}}{\\left(t \\right)} \\right)}\\right)\\\\- l_{1} m_{2} \\sin{\\left(\\operatorname{q_{2}}{\\left(t \\right)} \\right)} & l_{0} l_{1} m_{2} \\left(\\sin{\\left(\\operatorname{q_{1}}{\\left(t \\right)} \\right)} \\sin{\\left(\\operatorname{q_{2}}{\\left(t \\right)} \\right)} + \\cos{\\left(\\operatorname{q_{1}}{\\left(t \\right)} \\right)} \\cos{\\left(\\operatorname{q_{2}}{\\left(t \\right)} \\right)}\\right) & l_{1}^{2} m_{2}\\end{matrix}\\right]$"
      ],
      "text/plain": [
       "Matrix([\n",
       "[                        m0 + m1 + m2,                     -l0*m1*sin(q1(t)) - l0*m2*sin(q1(t)),                                        -l1*m2*sin(q2(t))],\n",
       "[-l0*m1*sin(q1(t)) - l0*m2*sin(q1(t)),                                      l0**2*m1 + l0**2*m2, l0*l1*m2*(sin(q1(t))*sin(q2(t)) + cos(q1(t))*cos(q2(t)))],\n",
       "[                   -l1*m2*sin(q2(t)), l0*l1*m2*(sin(q1(t))*sin(q2(t)) + cos(q1(t))*cos(q2(t))),                                                 l1**2*m2]])"
      ]
     },
     "execution_count": 37,
     "metadata": {},
     "output_type": "execute_result"
    }
   ],
   "source": [
    "kane.mass_matrix"
   ]
  },
  {
   "cell_type": "code",
   "execution_count": 38,
   "id": "empirical-hypothesis",
   "metadata": {},
   "outputs": [
    {
     "data": {
      "text/latex": [
       "$\\displaystyle \\left[\\begin{matrix}l_{0} m_{1} \\operatorname{u_{1}}^{2}{\\left(t \\right)} \\cos{\\left(\\operatorname{q_{1}}{\\left(t \\right)} \\right)} + l_{0} m_{2} \\operatorname{u_{1}}^{2}{\\left(t \\right)} \\cos{\\left(\\operatorname{q_{1}}{\\left(t \\right)} \\right)} + l_{1} m_{2} \\operatorname{u_{2}}^{2}{\\left(t \\right)} \\cos{\\left(\\operatorname{q_{2}}{\\left(t \\right)} \\right)} + f{\\left(t \\right)}\\\\- g l_{0} m_{1} \\cos{\\left(\\operatorname{q_{1}}{\\left(t \\right)} \\right)} - g l_{0} m_{2} \\cos{\\left(\\operatorname{q_{1}}{\\left(t \\right)} \\right)} + l_{0} l_{1} m_{2} \\left(- \\sin{\\left(\\operatorname{q_{1}}{\\left(t \\right)} \\right)} \\cos{\\left(\\operatorname{q_{2}}{\\left(t \\right)} \\right)} + \\sin{\\left(\\operatorname{q_{2}}{\\left(t \\right)} \\right)} \\cos{\\left(\\operatorname{q_{1}}{\\left(t \\right)} \\right)}\\right) \\operatorname{u_{2}}^{2}{\\left(t \\right)}\\\\- g l_{1} m_{2} \\cos{\\left(\\operatorname{q_{2}}{\\left(t \\right)} \\right)} + l_{0} l_{1} m_{2} \\left(\\sin{\\left(\\operatorname{q_{1}}{\\left(t \\right)} \\right)} \\cos{\\left(\\operatorname{q_{2}}{\\left(t \\right)} \\right)} - \\sin{\\left(\\operatorname{q_{2}}{\\left(t \\right)} \\right)} \\cos{\\left(\\operatorname{q_{1}}{\\left(t \\right)} \\right)}\\right) \\operatorname{u_{1}}^{2}{\\left(t \\right)}\\end{matrix}\\right]$"
      ],
      "text/plain": [
       "Matrix([\n",
       "[                     l0*m1*u1(t)**2*cos(q1(t)) + l0*m2*u1(t)**2*cos(q1(t)) + l1*m2*u2(t)**2*cos(q2(t)) + f(t)],\n",
       "[-g*l0*m1*cos(q1(t)) - g*l0*m2*cos(q1(t)) + l0*l1*m2*(-sin(q1(t))*cos(q2(t)) + sin(q2(t))*cos(q1(t)))*u2(t)**2],\n",
       "[                      -g*l1*m2*cos(q2(t)) + l0*l1*m2*(sin(q1(t))*cos(q2(t)) - sin(q2(t))*cos(q1(t)))*u1(t)**2]])"
      ]
     },
     "execution_count": 38,
     "metadata": {},
     "output_type": "execute_result"
    }
   ],
   "source": [
    "kane.forcing"
   ]
  },
  {
   "cell_type": "code",
   "execution_count": 39,
   "id": "gorgeous-slide",
   "metadata": {},
   "outputs": [],
   "source": [
    "linearizer = kane.to_linearizer()"
   ]
  },
  {
   "cell_type": "code",
   "execution_count": 40,
   "id": "pointed-lexington",
   "metadata": {},
   "outputs": [
    {
     "data": {
      "text/latex": [
       "$\\displaystyle \\left[\\begin{matrix}1 & 0 & 0 & 0 & 0 & 0\\\\0 & 1 & 0 & 0 & 0 & 0\\\\0 & 0 & 1 & 0 & 0 & 0\\\\0 & 0 & 0 & - m_{0} - m_{1} - m_{2} & l_{0} m_{1} \\sin{\\left(\\operatorname{q_{1}}{\\left(t \\right)} \\right)} + l_{0} m_{2} \\sin{\\left(\\operatorname{q_{1}}{\\left(t \\right)} \\right)} & l_{1} m_{2} \\sin{\\left(\\operatorname{q_{2}}{\\left(t \\right)} \\right)}\\\\0 & 0 & 0 & l_{0} m_{1} \\sin{\\left(\\operatorname{q_{1}}{\\left(t \\right)} \\right)} + l_{0} m_{2} \\sin{\\left(\\operatorname{q_{1}}{\\left(t \\right)} \\right)} & - l_{0}^{2} m_{1} - l_{0}^{2} m_{2} & - l_{0} l_{1} m_{2} \\left(\\sin{\\left(\\operatorname{q_{1}}{\\left(t \\right)} \\right)} \\sin{\\left(\\operatorname{q_{2}}{\\left(t \\right)} \\right)} + \\cos{\\left(\\operatorname{q_{1}}{\\left(t \\right)} \\right)} \\cos{\\left(\\operatorname{q_{2}}{\\left(t \\right)} \\right)}\\right)\\\\0 & 0 & 0 & l_{1} m_{2} \\sin{\\left(\\operatorname{q_{2}}{\\left(t \\right)} \\right)} & - l_{0} l_{1} m_{2} \\left(\\sin{\\left(\\operatorname{q_{1}}{\\left(t \\right)} \\right)} \\sin{\\left(\\operatorname{q_{2}}{\\left(t \\right)} \\right)} + \\cos{\\left(\\operatorname{q_{1}}{\\left(t \\right)} \\right)} \\cos{\\left(\\operatorname{q_{2}}{\\left(t \\right)} \\right)}\\right) & - l_{1}^{2} m_{2}\\end{matrix}\\right]$"
      ],
      "text/plain": [
       "Matrix([\n",
       "[1, 0, 0,                                   0,                                                         0,                                                         0],\n",
       "[0, 1, 0,                                   0,                                                         0,                                                         0],\n",
       "[0, 0, 1,                                   0,                                                         0,                                                         0],\n",
       "[0, 0, 0,                       -m0 - m1 - m2,                       l0*m1*sin(q1(t)) + l0*m2*sin(q1(t)),                                          l1*m2*sin(q2(t))],\n",
       "[0, 0, 0, l0*m1*sin(q1(t)) + l0*m2*sin(q1(t)),                                      -l0**2*m1 - l0**2*m2, -l0*l1*m2*(sin(q1(t))*sin(q2(t)) + cos(q1(t))*cos(q2(t)))],\n",
       "[0, 0, 0,                    l1*m2*sin(q2(t)), -l0*l1*m2*(sin(q1(t))*sin(q2(t)) + cos(q1(t))*cos(q2(t))),                                                 -l1**2*m2]])"
      ]
     },
     "execution_count": 40,
     "metadata": {},
     "output_type": "execute_result"
    }
   ],
   "source": [
    "M, A, B = linearizer.linearize()\n",
    "\n",
    "M"
   ]
  },
  {
   "cell_type": "code",
   "execution_count": 41,
   "id": "entitled-square",
   "metadata": {},
   "outputs": [
    {
     "data": {
      "text/latex": [
       "$\\displaystyle \\left[\\begin{matrix}0 & 0 & 0 & 1 & 0 & 0\\\\0 & 0 & 0 & 0 & 1 & 0\\\\0 & 0 & 0 & 0 & 0 & 1\\\\0 & l_{0} m_{1} \\operatorname{u_{1}}^{2}{\\left(t \\right)} \\sin{\\left(\\operatorname{q_{1}}{\\left(t \\right)} \\right)} + l_{0} m_{2} \\operatorname{u_{1}}^{2}{\\left(t \\right)} \\sin{\\left(\\operatorname{q_{1}}{\\left(t \\right)} \\right)} - \\left(l_{0} m_{1} \\cos{\\left(\\operatorname{q_{1}}{\\left(t \\right)} \\right)} + l_{0} m_{2} \\cos{\\left(\\operatorname{q_{1}}{\\left(t \\right)} \\right)}\\right) \\frac{d}{d t} \\operatorname{u_{1}}{\\left(t \\right)} & l_{1} m_{2} \\operatorname{u_{2}}^{2}{\\left(t \\right)} \\sin{\\left(\\operatorname{q_{2}}{\\left(t \\right)} \\right)} - l_{1} m_{2} \\cos{\\left(\\operatorname{q_{2}}{\\left(t \\right)} \\right)} \\frac{d}{d t} \\operatorname{u_{2}}{\\left(t \\right)} & 0 & - 2 l_{0} m_{1} \\operatorname{u_{1}}{\\left(t \\right)} \\cos{\\left(\\operatorname{q_{1}}{\\left(t \\right)} \\right)} - 2 l_{0} m_{2} \\operatorname{u_{1}}{\\left(t \\right)} \\cos{\\left(\\operatorname{q_{1}}{\\left(t \\right)} \\right)} & - 2 l_{1} m_{2} \\operatorname{u_{2}}{\\left(t \\right)} \\cos{\\left(\\operatorname{q_{2}}{\\left(t \\right)} \\right)}\\\\0 & - g l_{0} m_{1} \\sin{\\left(\\operatorname{q_{1}}{\\left(t \\right)} \\right)} - g l_{0} m_{2} \\sin{\\left(\\operatorname{q_{1}}{\\left(t \\right)} \\right)} - l_{0} l_{1} m_{2} \\left(- \\sin{\\left(\\operatorname{q_{1}}{\\left(t \\right)} \\right)} \\sin{\\left(\\operatorname{q_{2}}{\\left(t \\right)} \\right)} - \\cos{\\left(\\operatorname{q_{1}}{\\left(t \\right)} \\right)} \\cos{\\left(\\operatorname{q_{2}}{\\left(t \\right)} \\right)}\\right) \\operatorname{u_{2}}^{2}{\\left(t \\right)} + l_{0} l_{1} m_{2} \\left(- \\sin{\\left(\\operatorname{q_{1}}{\\left(t \\right)} \\right)} \\cos{\\left(\\operatorname{q_{2}}{\\left(t \\right)} \\right)} + \\sin{\\left(\\operatorname{q_{2}}{\\left(t \\right)} \\right)} \\cos{\\left(\\operatorname{q_{1}}{\\left(t \\right)} \\right)}\\right) \\frac{d}{d t} \\operatorname{u_{2}}{\\left(t \\right)} - \\left(l_{0} m_{1} \\cos{\\left(\\operatorname{q_{1}}{\\left(t \\right)} \\right)} + l_{0} m_{2} \\cos{\\left(\\operatorname{q_{1}}{\\left(t \\right)} \\right)}\\right) \\frac{d}{d t} \\operatorname{u_{0}}{\\left(t \\right)} & - l_{0} l_{1} m_{2} \\left(\\sin{\\left(\\operatorname{q_{1}}{\\left(t \\right)} \\right)} \\sin{\\left(\\operatorname{q_{2}}{\\left(t \\right)} \\right)} + \\cos{\\left(\\operatorname{q_{1}}{\\left(t \\right)} \\right)} \\cos{\\left(\\operatorname{q_{2}}{\\left(t \\right)} \\right)}\\right) \\operatorname{u_{2}}^{2}{\\left(t \\right)} + l_{0} l_{1} m_{2} \\left(\\sin{\\left(\\operatorname{q_{1}}{\\left(t \\right)} \\right)} \\cos{\\left(\\operatorname{q_{2}}{\\left(t \\right)} \\right)} - \\sin{\\left(\\operatorname{q_{2}}{\\left(t \\right)} \\right)} \\cos{\\left(\\operatorname{q_{1}}{\\left(t \\right)} \\right)}\\right) \\frac{d}{d t} \\operatorname{u_{2}}{\\left(t \\right)} & 0 & 0 & - 2 l_{0} l_{1} m_{2} \\left(- \\sin{\\left(\\operatorname{q_{1}}{\\left(t \\right)} \\right)} \\cos{\\left(\\operatorname{q_{2}}{\\left(t \\right)} \\right)} + \\sin{\\left(\\operatorname{q_{2}}{\\left(t \\right)} \\right)} \\cos{\\left(\\operatorname{q_{1}}{\\left(t \\right)} \\right)}\\right) \\operatorname{u_{2}}{\\left(t \\right)}\\\\0 & - l_{0} l_{1} m_{2} \\left(\\sin{\\left(\\operatorname{q_{1}}{\\left(t \\right)} \\right)} \\sin{\\left(\\operatorname{q_{2}}{\\left(t \\right)} \\right)} + \\cos{\\left(\\operatorname{q_{1}}{\\left(t \\right)} \\right)} \\cos{\\left(\\operatorname{q_{2}}{\\left(t \\right)} \\right)}\\right) \\operatorname{u_{1}}^{2}{\\left(t \\right)} + l_{0} l_{1} m_{2} \\left(- \\sin{\\left(\\operatorname{q_{1}}{\\left(t \\right)} \\right)} \\cos{\\left(\\operatorname{q_{2}}{\\left(t \\right)} \\right)} + \\sin{\\left(\\operatorname{q_{2}}{\\left(t \\right)} \\right)} \\cos{\\left(\\operatorname{q_{1}}{\\left(t \\right)} \\right)}\\right) \\frac{d}{d t} \\operatorname{u_{1}}{\\left(t \\right)} & - g l_{1} m_{2} \\sin{\\left(\\operatorname{q_{2}}{\\left(t \\right)} \\right)} - l_{0} l_{1} m_{2} \\left(- \\sin{\\left(\\operatorname{q_{1}}{\\left(t \\right)} \\right)} \\sin{\\left(\\operatorname{q_{2}}{\\left(t \\right)} \\right)} - \\cos{\\left(\\operatorname{q_{1}}{\\left(t \\right)} \\right)} \\cos{\\left(\\operatorname{q_{2}}{\\left(t \\right)} \\right)}\\right) \\operatorname{u_{1}}^{2}{\\left(t \\right)} + l_{0} l_{1} m_{2} \\left(\\sin{\\left(\\operatorname{q_{1}}{\\left(t \\right)} \\right)} \\cos{\\left(\\operatorname{q_{2}}{\\left(t \\right)} \\right)} - \\sin{\\left(\\operatorname{q_{2}}{\\left(t \\right)} \\right)} \\cos{\\left(\\operatorname{q_{1}}{\\left(t \\right)} \\right)}\\right) \\frac{d}{d t} \\operatorname{u_{1}}{\\left(t \\right)} - l_{1} m_{2} \\cos{\\left(\\operatorname{q_{2}}{\\left(t \\right)} \\right)} \\frac{d}{d t} \\operatorname{u_{0}}{\\left(t \\right)} & 0 & - 2 l_{0} l_{1} m_{2} \\left(\\sin{\\left(\\operatorname{q_{1}}{\\left(t \\right)} \\right)} \\cos{\\left(\\operatorname{q_{2}}{\\left(t \\right)} \\right)} - \\sin{\\left(\\operatorname{q_{2}}{\\left(t \\right)} \\right)} \\cos{\\left(\\operatorname{q_{1}}{\\left(t \\right)} \\right)}\\right) \\operatorname{u_{1}}{\\left(t \\right)} & 0\\end{matrix}\\right]$"
      ],
      "text/plain": [
       "Matrix([\n",
       "[0,                                                                                                                                                                                                                                                           0,                                                                                                                                                                                                                0, 1,                                                                 0,                                                                  0],\n",
       "[0,                                                                                                                                                                                                                                                           0,                                                                                                                                                                                                                0, 0,                                                                 1,                                                                  0],\n",
       "[0,                                                                                                                                                                                                                                                           0,                                                                                                                                                                                                                0, 0,                                                                 0,                                                                  1],\n",
       "[0,                                                                                                                                          l0*m1*u1(t)**2*sin(q1(t)) + l0*m2*u1(t)**2*sin(q1(t)) - (l0*m1*cos(q1(t)) + l0*m2*cos(q1(t)))*Derivative(u1(t), t),                                                                                                                                                l1*m2*u2(t)**2*sin(q2(t)) - l1*m2*cos(q2(t))*Derivative(u2(t), t), 0,              -2*l0*m1*u1(t)*cos(q1(t)) - 2*l0*m2*u1(t)*cos(q1(t)),                                          -2*l1*m2*u2(t)*cos(q2(t))],\n",
       "[0, -g*l0*m1*sin(q1(t)) - g*l0*m2*sin(q1(t)) - l0*l1*m2*(-sin(q1(t))*sin(q2(t)) - cos(q1(t))*cos(q2(t)))*u2(t)**2 + l0*l1*m2*(-sin(q1(t))*cos(q2(t)) + sin(q2(t))*cos(q1(t)))*Derivative(u2(t), t) - (l0*m1*cos(q1(t)) + l0*m2*cos(q1(t)))*Derivative(u0(t), t),                                                               -l0*l1*m2*(sin(q1(t))*sin(q2(t)) + cos(q1(t))*cos(q2(t)))*u2(t)**2 + l0*l1*m2*(sin(q1(t))*cos(q2(t)) - sin(q2(t))*cos(q1(t)))*Derivative(u2(t), t), 0,                                                                 0, -2*l0*l1*m2*(-sin(q1(t))*cos(q2(t)) + sin(q2(t))*cos(q1(t)))*u2(t)],\n",
       "[0,                                                                                                         -l0*l1*m2*(sin(q1(t))*sin(q2(t)) + cos(q1(t))*cos(q2(t)))*u1(t)**2 + l0*l1*m2*(-sin(q1(t))*cos(q2(t)) + sin(q2(t))*cos(q1(t)))*Derivative(u1(t), t), -g*l1*m2*sin(q2(t)) - l0*l1*m2*(-sin(q1(t))*sin(q2(t)) - cos(q1(t))*cos(q2(t)))*u1(t)**2 + l0*l1*m2*(sin(q1(t))*cos(q2(t)) - sin(q2(t))*cos(q1(t)))*Derivative(u1(t), t) - l1*m2*cos(q2(t))*Derivative(u0(t), t), 0, -2*l0*l1*m2*(sin(q1(t))*cos(q2(t)) - sin(q2(t))*cos(q1(t)))*u1(t),                                                                  0]])"
      ]
     },
     "execution_count": 41,
     "metadata": {},
     "output_type": "execute_result"
    }
   ],
   "source": [
    "A"
   ]
  },
  {
   "cell_type": "code",
   "execution_count": 42,
   "id": "hired-capital",
   "metadata": {},
   "outputs": [
    {
     "data": {
      "text/latex": [
       "$\\displaystyle \\left[\\begin{matrix}0\\\\0\\\\0\\\\-1\\\\0\\\\0\\end{matrix}\\right]$"
      ],
      "text/plain": [
       "Matrix([\n",
       "[ 0],\n",
       "[ 0],\n",
       "[ 0],\n",
       "[-1],\n",
       "[ 0],\n",
       "[ 0]])"
      ]
     },
     "execution_count": 42,
     "metadata": {},
     "output_type": "execute_result"
    }
   ],
   "source": [
    "B"
   ]
  },
  {
   "cell_type": "code",
   "execution_count": 43,
   "id": "blond-batch",
   "metadata": {},
   "outputs": [],
   "source": [
    "from sympy import Dummy, lambdify\n",
    "from numpy import array, hstack, zeros, linspace, pi, ones\n",
    "from numpy.linalg import solve\n",
    "from scipy.integrate import odeint"
   ]
  },
  {
   "cell_type": "code",
   "execution_count": 44,
   "id": "prescription-flood",
   "metadata": {},
   "outputs": [],
   "source": [
    "arm_length = 1. / n                          # The maximum length of the pendulum is 1 meter\n",
    "bob_mass = 0.01 / n                          # The maximum mass of the bobs is 10 grams\n",
    "parameters = [g, m[0]]                       # Parameter definitions starting with gravity and the first bob\n",
    "parameter_vals = [9.81, 0.01 / n]            # Numerical values for the first two\n",
    "for i in range(n):                           # Then each mass and length\n",
    "    parameters += [l[i], m[i + 1]]\n",
    "    parameter_vals += [arm_length, bob_mass]"
   ]
  },
  {
   "cell_type": "code",
   "execution_count": 45,
   "id": "understanding-delicious",
   "metadata": {},
   "outputs": [],
   "source": [
    "dynamic = q + u                                                # Make a list of the states\n",
    "dynamic.append(f)                                              # Add the input force\n",
    "dummy_symbols = [Dummy() for i in dynamic]                     # Create a dummy symbol for each variable\n",
    "dummy_dict = dict(zip(dynamic, dummy_symbols))\n",
    "kindiff_dict = kane.kindiffdict()                              # Get the solved kinematical differential equations\n",
    "M = kane.mass_matrix_full.subs(kindiff_dict).subs(dummy_dict)  # Substitute into the mass matrix \n",
    "F = kane.forcing_full.subs(kindiff_dict).subs(dummy_dict)      # Substitute into the forcing vector\n",
    "M_func = lambdify(dummy_symbols + parameters, M)               # Create a callable function to evaluate the mass matrix \n",
    "F_func = lambdify(dummy_symbols + parameters, F)               # Create a callable function to evaluate the forcing vector"
   ]
  },
  {
   "cell_type": "code",
   "execution_count": 46,
   "id": "rocky-standard",
   "metadata": {},
   "outputs": [],
   "source": [
    "def right_hand_side(x, t, args):\n",
    "    \"\"\"Returns the derivatives of the states.\n",
    "\n",
    "    Parameters\n",
    "    ----------\n",
    "    x : ndarray, shape(2 * (n + 1))\n",
    "        The current state vector.\n",
    "    t : float\n",
    "        The current time.\n",
    "    args : ndarray\n",
    "        The constants.\n",
    "\n",
    "    Returns\n",
    "    -------\n",
    "    dx : ndarray, shape(2 * (n + 1))\n",
    "        The derivative of the state.\n",
    "    \n",
    "    \"\"\"\n",
    "    u = 0.0                              # The input force is always zero     \n",
    "    arguments = hstack((x, u, args))     # States, input, and parameters\n",
    "    dx = array(solve(M_func(*arguments), # Solving for the derivatives\n",
    "        F_func(*arguments))).T[0]\n",
    "\n",
    "    return dx"
   ]
  },
  {
   "cell_type": "code",
   "execution_count": 47,
   "id": "controlled-minneapolis",
   "metadata": {},
   "outputs": [],
   "source": [
    "x0 = hstack(( 0, pi / 2 * ones(len(q) - 1), 1e-3 * ones(len(u)) )) # Initial conditions, q and u\n",
    "t = linspace(0, 10, 1000)                                          # Time vector\n",
    "y = odeint(right_hand_side, x0, t, args=(parameter_vals,))         # Actual integration"
   ]
  },
  {
   "cell_type": "code",
   "execution_count": 48,
   "id": "commercial-tooth",
   "metadata": {},
   "outputs": [
    {
     "data": {
      "image/png": "[encoded data removed]",
      "text/plain": [
       "<Figure size 432x288 with 1 Axes>"
      ]
     },
     "metadata": {
      "needs_background": "light"
     },
     "output_type": "display_data"
    }
   ],
   "source": [
    "from matplotlib.pyplot import *\n",
    "\n",
    "lines = plot(t, y[:, :y.shape[1] // 2])\n",
    "lab = xlabel('Time [sec]')\n",
    "leg = legend(dynamic[:y.shape[1] // 2])"
   ]
  },
  {
   "cell_type": "code",
   "execution_count": 49,
   "id": "blond-grenada",
   "metadata": {},
   "outputs": [
    {
     "data": {
      "image/png": "[encoded data removed]",
      "text/plain": [
       "<Figure size 432x288 with 1 Axes>"
      ]
     },
     "metadata": {
      "needs_background": "light"
     },
     "output_type": "display_data"
    }
   ],
   "source": [
    "lines = plot(t, y[:, y.shape[1] // 2:])\n",
    "lab = xlabel('Time [sec]')\n",
    "leg = legend(dynamic[y.shape[1] // 2:])"
   ]
  },
  {
   "cell_type": "code",
   "execution_count": 50,
   "id": "christian-redhead",
   "metadata": {},
   "outputs": [],
   "source": [
    "# from numpy import zeros, cos, sin, arange, around\n",
    "# from matplotlib import pyplot as plt\n",
    "# from matplotlib import animation\n",
    "# from matplotlib.patches import Rectangle"
   ]
  },
  {
   "cell_type": "code",
   "execution_count": 51,
   "id": "placed-alcohol",
   "metadata": {},
   "outputs": [],
   "source": [
    "# def animate_pendulum(t, states, length, filename=None):\n",
    "#     \"\"\"Animates the n-pendulum and optionally saves it to file.\n",
    "\n",
    "#     Parameters\n",
    "#     ----------\n",
    "#     t : ndarray, shape(m)\n",
    "#         Time array.\n",
    "#     states: ndarray, shape(m,p)\n",
    "#         State time history.\n",
    "#     length: float\n",
    "#         The length of the pendulum links.\n",
    "#     filename: string or None, optional\n",
    "#         If true a movie file will be saved of the animation. This may take some time.\n",
    "\n",
    "#     Returns\n",
    "#     -------\n",
    "#     fig : matplotlib.Figure\n",
    "#         The figure.\n",
    "#     anim : matplotlib.FuncAnimation\n",
    "#         The animation.\n",
    "\n",
    "#     \"\"\"\n",
    "#     # the number of pendulum bobs\n",
    "#     numpoints = states.shape[1] / 2\n",
    "\n",
    "#     # first set up the figure, the axis, and the plot elements we want to animate\n",
    "#     fig = plt.figure()\n",
    "\n",
    "#     # some dimesions\n",
    "#     cart_width = 0.4\n",
    "#     cart_height = 0.2\n",
    "\n",
    "#     # set the limits based on the motion\n",
    "#     xmin = around(states[:, 0].min() - cart_width / 2.0, 1)\n",
    "#     xmax = around(states[:, 0].max() + cart_width / 2.0, 1)\n",
    "\n",
    "#     # create the axes\n",
    "#     ax = plt.axes(xlim=(xmin, xmax), ylim=(-1.1, 1.1), aspect='equal')\n",
    "\n",
    "#     # display the current time\n",
    "#     time_text = ax.text(0.04, 0.9, '', transform=ax.transAxes)\n",
    "\n",
    "#     # create a rectangular cart\n",
    "#     rect = Rectangle([states[0, 0] - cart_width / 2.0, -cart_height / 2],\n",
    "#         cart_width, cart_height, fill=True, color='red', ec='black')\n",
    "#     ax.add_patch(rect)\n",
    "\n",
    "#     # blank line for the pendulum\n",
    "#     line, = ax.plot([], [], lw=2, marker='o', markersize=6)\n",
    "\n",
    "#     # initialization function: plot the background of each frame\n",
    "#     def init():\n",
    "#         time_text.set_text('')\n",
    "#         rect.set_xy((0.0, 0.0))\n",
    "#         line.set_data([], [])\n",
    "#         return time_text, rect, line,\n",
    "\n",
    "#     # animation function: update the objects\n",
    "#     def animate(i):\n",
    "#         time_text.set_text('time = {:2.2f}'.format(t[i]))\n",
    "#         rect.set_xy((states[i, 0] - cart_width // 2.0, -cart_height // 2))\n",
    "#         x = hstack((states[i, 0], zeros((numpoints - 1))))\n",
    "#         y = zeros((numpoints))\n",
    "#         for j in arange(1, numpoints):\n",
    "#             x[j] = x[j - 1] + length * cos(states[i, j])\n",
    "#             y[j] = y[j - 1] + length * sin(states[i, j])\n",
    "#         line.set_data(x, y)\n",
    "#         return time_text, rect, line,\n",
    "\n",
    "#     # call the animator function\n",
    "#     anim = animation.FuncAnimation(fig, animate, frames=len(t), init_func=init,\n",
    "#             interval=t[-1] / len(t) * 1000, blit=True, repeat=False)\n",
    "\n",
    "#     # save the animation if a filename is given\n",
    "#     if filename is not None:\n",
    "#         anim.save(filename, fps=30, codec='libx264')\n"
   ]
  },
  {
   "cell_type": "code",
   "execution_count": 52,
   "id": "optical-portrait",
   "metadata": {},
   "outputs": [],
   "source": [
    "# animate_pendulum(t, y, arm_length, filename=\"open-loop.ogv\")\n",
    "# animate_pendulum(t, y, arm_length, filename=\"open-loop.mp4\")"
   ]
  },
  {
   "cell_type": "code",
   "execution_count": 53,
   "id": "dated-reply",
   "metadata": {},
   "outputs": [],
   "source": [
    "# from IPython.display import HTML, display\n",
    "# h = \"./open-loop.mp4\"\n",
    "# \"\"\"\n",
    "# <video width=\"640\" height=\"480\" controls>\n",
    "#   <source src=\"files/open-loop.ogv\" type=\"video/ogg\">\n",
    "#   <source src=\"files/open-loop.mp4\" type=\"video/mp4\">\n",
    "# Your browser does not support the video tag, check out the YouTuve version instead: http://youtu.be/Nj3_npq7MZI.\n",
    "# </video>\n",
    "# \"\"\"\n",
    "# display(HTML(h, metadata=dict(isolated=True)))"
   ]
  }
 ],
 "metadata": {
  "kernelspec": {
   "display_name": "Python 3",
   "language": "python",
   "name": "python3"
  },
  "language_info": {
   "codemirror_mode": {
    "name": "ipython",
    "version": 3
   },
   "file_extension": ".py",
   "mimetype": "text/x-python",
   "name": "python",
   "nbconvert_exporter": "python",
   "pygments_lexer": "ipython3",
   "version": "3.8.5"
  }
 },
 "nbformat": 4,
 "nbformat_minor": 5
}
