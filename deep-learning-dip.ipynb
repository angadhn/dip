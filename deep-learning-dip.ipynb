{
 "cells": [
  {
   "cell_type": "markdown",
   "id": "viral-score",
   "metadata": {},
   "source": [
    "# Deep Reinforcement Learning for Robotic Systems "
   ]
  },
  {
   "cell_type": "markdown",
   "id": "stretch-announcement",
   "metadata": {},
   "source": [
    "## Synopsis\n",
    "\n",
    "This notebook outlines the modelling and integration of the [Proximal Policy Optimisation](http://arxiv.org/abs/1707.06347) algorithm on an **inverted double pendulum** as a baseline study into advanced astrodynamical control systems, such as docking and berthing of spacecraft, and rocket initialisation stabilisation. \n",
    "\n",
    "--------\n",
    "\n",
    "Produced by *Mughees Asif*, under supervision of [Dr. Angadh Nanjangud](https://www.sems.qmul.ac.uk/staff/a.nanjangud) (Lecturer in Aerospace/Spacecraft Engineering @ [Queen Mary, University of London](https://www.sems.qmul.ac.uk/)).\n",
    "\n"
   ]
  },
  {
   "cell_type": "markdown",
   "id": "minor-latex",
   "metadata": {},
   "source": [
    "## 1. <u>Overview</u>\n",
    "\n",
    "Proximal Policy Optimisation is a deep reinforcement learning algorithm developed by [OpenAI](https://spinningup.openai.com/en/latest/algorithms/ppo.html). It has proven to be successful in a variety of tasks ranging from enabling robotic systems in complex environments, to developing proficiency in computer gaming by using stochastic mathematical modelling to simulate real-life decision making. For the purposes of this research, the algorithm will be implemented to vertically stablise an inverted double pendulum, which is widely used in industry as a benchmark to validate the veracity of next-generation intelligent algorithms."
   ]
  },
  {
   "cell_type": "markdown",
   "id": "super-piece",
   "metadata": {},
   "source": [
    "## 2. <u>Model description</u>\n",
    "\n",
    "An inverted double pendulum is a characteristic example of a simple-to-build, non-linear, and chaotic mechanical system that has been widely studied in the fields of Robotics, Aerospace, Biomedical, Mechanical Engineering, and Mathematical Analysis.\n",
    "\n",
    "<img src=\"images/dip_fbd.png\" width=\"500\" />"
   ]
  },
  {
   "cell_type": "markdown",
   "id": "leading-upgrade",
   "metadata": {},
   "source": [
    "## 3. <u>Variables</u>\n",
    "\n",
    "<img src=\"images/variables.png\" width=\"500\" />"
   ]
  },
  {
   "cell_type": "markdown",
   "id": "ordinary-orleans",
   "metadata": {},
   "source": [
    "## 4. <u>Governing equations of motion</u>\n",
    "\n",
    "The following section utilises the [SymPy](https://www.sympy.org/en/index.html) package to derive the governing equations of motion. "
   ]
  },
  {
   "cell_type": "markdown",
   "id": "silver-armstrong",
   "metadata": {},
   "source": [
    "### 4.1. Basic modelling\n",
    "\n",
    "<img src=\"images/dip_fbd_radius.png\" width=\"400\" />"
   ]
  },
  {
   "cell_type": "code",
   "execution_count": 47,
   "id": "aerial-anxiety",
   "metadata": {},
   "outputs": [],
   "source": [
    "import sympy\n",
    "\n",
    "# initiliase variables\n",
    "t = sympy.symbols('t')        # time\n",
    "m = sympy.symbols('m')        # mass of the cart\n",
    "l = sympy.symbols('l')        # length of the pendulums, l_1 = l_2 = l\n",
    "M = sympy.symbols('M')        # mass of the pendulums, M_1 = M_2 = M\n",
    "I = sympy.symbols('I')        # moment of inertia\n",
    "g = sympy.symbols('g')        # gravitational constant, 9.81 m/s^2\n",
    "F = sympy.symbols('F')        # force applied to the cart\n",
    "\n",
    "x = sympy.Function('x')(t)    # |\n",
    "Θ = sympy.Function('Θ')(t)    # | --- functions of (t)\n",
    "Φ = sympy.Function('Φ')(t)    # |\n",
    "\n",
    "# pendulum(s) \n",
    "x_1 = x + (l*sympy.sin(Θ))    # | --- position\n",
    "x_2 = l*sympy.cos(Θ)          # | \n",
    "\n",
    "v = sympy.sqrt(sympy.simplify(v_1.diff(t)**2 + y2.diff(t)**2))         # |  \n",
    "v_1 = x_1 + l*sympy.sin(Φ)                                             # | --- x, y component of velocity\n",
    "v_2 = x_2 + l*sympy.cos(Φ)                                             # | \n",
    "v_total = sympy.sqrt(sympy.simplify(v_1.diff(t)**2 + v_2.diff(t)**2))  # |\n",
    "\n",
    "# cart\n",
    "x_dot = x.diff(t)      # velocity"
   ]
  },
  {
   "cell_type": "markdown",
   "id": "billion-clearance",
   "metadata": {},
   "source": [
    "### 4.2. Kinetic and Potential Energy"
   ]
  },
  {
   "cell_type": "code",
   "execution_count": 36,
   "id": "figured-working",
   "metadata": {},
   "outputs": [],
   "source": [
    "# kinetic energy \n",
    "Θ_dot = Θ.diff(t)\n",
    "Φ_dot = Φ.diff(t)\n",
    "\n",
    "K = 0.5*((m*x_dot**2) + M*(v_1**2 + v_2**2) + I*(Θ_dot**2 + Φ_dot**2))\n",
    "\n",
    "# potential energy \n",
    "P = M*g*l*(2*sympy.cos(Θ) + sympy.cos(Φ))"
   ]
  },
  {
   "cell_type": "code",
   "execution_count": 35,
   "id": "possible-apparel",
   "metadata": {},
   "outputs": [
    {
     "name": "stdout",
     "output_type": "stream",
     "text": [
      "The kinetic energy, K, of the system: \n"
     ]
    },
    {
     "data": {
      "image/png": "[encoded data removed]",
      "text/latex": [
       "$\\displaystyle 0.5 I \\left(\\left(\\frac{d}{d t} Θ{\\left(t \\right)}\\right)^{2} + \\left(\\frac{d}{d t} Φ{\\left(t \\right)}\\right)^{2}\\right) + 0.5 M \\left(\\left(l \\cos{\\left(Θ{\\left(t \\right)} \\right)} + l \\cos{\\left(Φ{\\left(t \\right)} \\right)}\\right)^{2} + \\left(l \\sin{\\left(Θ{\\left(t \\right)} \\right)} + l \\sin{\\left(Φ{\\left(t \\right)} \\right)} + x{\\left(t \\right)}\\right)^{2}\\right) + 0.5 m \\left(\\frac{d}{d t} x{\\left(t \\right)}\\right)^{2}$"
      ],
      "text/plain": [
       "      ⎛          2             2⎞                                             \n",
       "      ⎜⎛d       ⎞    ⎛d       ⎞ ⎟         ⎛                           2       \n",
       "0.5⋅I⋅⎜⎜──(Θ(t))⎟  + ⎜──(Φ(t))⎟ ⎟ + 0.5⋅M⋅⎝(l⋅cos(Θ(t)) + l⋅cos(Φ(t)))  + (l⋅s\n",
       "      ⎝⎝dt      ⎠    ⎝dt      ⎠ ⎠                                             \n",
       "\n",
       "                                                   2\n",
       "                              2⎞         ⎛d       ⎞ \n",
       "in(Θ(t)) + l⋅sin(Φ(t)) + x(t)) ⎠ + 0.5⋅m⋅⎜──(x(t))⎟ \n",
       "                                         ⎝dt      ⎠ "
      ]
     },
     "execution_count": 35,
     "metadata": {},
     "output_type": "execute_result"
    }
   ],
   "source": [
    "print('The kinetic energy, K, of the system: ')\n",
    "K"
   ]
  },
  {
   "cell_type": "code",
   "execution_count": 37,
   "id": "restricted-section",
   "metadata": {},
   "outputs": [
    {
     "name": "stdout",
     "output_type": "stream",
     "text": [
      "The potential energy, P, of the system: \n"
     ]
    },
    {
     "data": {
      "image/png": "[encoded data removed]",
      "text/latex": [
       "$\\displaystyle M g l \\left(2 \\cos{\\left(Θ{\\left(t \\right)} \\right)} + \\cos{\\left(Φ{\\left(t \\right)} \\right)}\\right)$"
      ],
      "text/plain": [
       "M⋅g⋅l⋅(2⋅cos(Θ(t)) + cos(Φ(t)))"
      ]
     },
     "execution_count": 37,
     "metadata": {},
     "output_type": "execute_result"
    }
   ],
   "source": [
    "print('The potential energy, P, of the system: ')\n",
    "P"
   ]
  },
  {
   "cell_type": "markdown",
   "id": "polar-soundtrack",
   "metadata": {},
   "source": [
    "### 4.3. The Lagrangian\n",
    "\n",
    "The action $S$ of the cart (movement; left, right) is mathematically defined as:\n",
    "\n",
    "$$S = \\int_{t_{0}}^{t_{1}} K - P \\,dt$$\n",
    "\n",
    "since, \n",
    "\n",
    "$$L = K - P$$\n",
    "\n",
    "$$\\therefore S = \\int_{t_{0}}^{t_{1}} L \\,dt$$"
   ]
  },
  {
   "cell_type": "code",
   "execution_count": 43,
   "id": "metallic-conjunction",
   "metadata": {},
   "outputs": [
    {
     "name": "stdout",
     "output_type": "stream",
     "text": [
      "The Lagrangian of the system is: \n"
     ]
    },
    {
     "data": {
      "image/png": "[encoded data removed]",
      "text/latex": [
       "$\\displaystyle 0.5 I \\left(\\left(\\frac{d}{d t} Θ{\\left(t \\right)}\\right)^{2} + \\left(\\frac{d}{d t} Φ{\\left(t \\right)}\\right)^{2}\\right) - M g l \\left(2 \\cos{\\left(Θ{\\left(t \\right)} \\right)} + \\cos{\\left(Φ{\\left(t \\right)} \\right)}\\right) + 0.5 M \\left(\\left(l \\cos{\\left(Θ{\\left(t \\right)} \\right)} + l \\cos{\\left(Φ{\\left(t \\right)} \\right)}\\right)^{2} + \\left(l \\sin{\\left(Θ{\\left(t \\right)} \\right)} + l \\sin{\\left(Φ{\\left(t \\right)} \\right)} + x{\\left(t \\right)}\\right)^{2}\\right) + 0.5 m \\left(\\frac{d}{d t} x{\\left(t \\right)}\\right)^{2}$"
      ],
      "text/plain": [
       "      ⎛          2             2⎞                                             \n",
       "      ⎜⎛d       ⎞    ⎛d       ⎞ ⎟                                           ⎛ \n",
       "0.5⋅I⋅⎜⎜──(Θ(t))⎟  + ⎜──(Φ(t))⎟ ⎟ - M⋅g⋅l⋅(2⋅cos(Θ(t)) + cos(Φ(t))) + 0.5⋅M⋅⎝(\n",
       "      ⎝⎝dt      ⎠    ⎝dt      ⎠ ⎠                                             \n",
       "\n",
       "                                                                              \n",
       "                          2                                     2⎞         ⎛d \n",
       "l⋅cos(Θ(t)) + l⋅cos(Φ(t)))  + (l⋅sin(Θ(t)) + l⋅sin(Φ(t)) + x(t)) ⎠ + 0.5⋅m⋅⎜──\n",
       "                                                                           ⎝dt\n",
       "\n",
       "       2\n",
       "      ⎞ \n",
       "(x(t))⎟ \n",
       "      ⎠ "
      ]
     },
     "execution_count": 43,
     "metadata": {},
     "output_type": "execute_result"
    }
   ],
   "source": [
    "# the lagrangian\n",
    "L = K - P\n",
    "\n",
    "print('The Lagrangian of the system is: ')\n",
    "L"
   ]
  },
  {
   "cell_type": "markdown",
   "id": "touched-percentage",
   "metadata": {},
   "source": [
    "### 4.4. The Euler-Lagrange equations\n",
    "\n",
    "The standard [Euler-Lagrange equation](https://www.ucl.ac.uk/~ucahmto/latex_html/chapter2_latex2html/node5.html) is:\n",
    "\n",
    "$$\\dfrac{d}{dt}\\dfrac{\\partial L}{\\partial \\dot{x}} - \\dfrac{\\partial L}{\\partial x} = 0$$\n",
    "\n",
    "To introduce the generalised force acting on the cart, the [Lagrange-D'Alembert Principle](https://phys.libretexts.org/Bookshelves/Classical_Mechanics/Book%3A_Variational_Principles_in_Classical_Mechanics_(Cline)/06%3A_Lagrangian_Dynamics/6.03%3A_Lagrange_Equations_from_dAlemberts_Principle) is used:\n",
    "\n",
    "$$\\dfrac{d}{dt}\\dfrac{\\partial L}{\\partial \\dot{x}} - \\dfrac{\\partial L}{\\partial x} = Q^{P}$$\n",
    "\n",
    "Therefore, for a three-dimensional _working_ system, the equations of motion can be derived as:\n",
    "\n",
    "$$\\dfrac{d}{dt}\\dfrac{\\partial L}{\\partial \\dot{x}} - \\dfrac{\\partial L}{\\partial x} = F - \\dot x$$\n",
    "\n",
    "$$\\dfrac{d}{dt}\\dfrac{\\partial L}{\\partial \\dot{\\theta}} - \\dfrac{\\partial L}{\\partial \\theta} = 0$$\n",
    "\n",
    "$$\\dfrac{d}{dt}\\dfrac{\\partial L}{\\partial \\dot{\\phi}} - \\dfrac{\\partial L}{\\partial \\phi} = 0$$"
   ]
  },
  {
   "cell_type": "code",
   "execution_count": 55,
   "id": "broadband-arbitration",
   "metadata": {},
   "outputs": [
    {
     "name": "stdout",
     "output_type": "stream",
     "text": [
      "The Euler-Lagrange equations:\n",
      "1.\n"
     ]
    },
    {
     "data": {
      "image/png": "[encoded data removed]",
      "text/latex": [
       "$\\displaystyle - 1.0 M l \\sin{\\left(Θ{\\left(t \\right)} \\right)} - 1.0 M l \\sin{\\left(Φ{\\left(t \\right)} \\right)} - 1.0 M x{\\left(t \\right)} + 1.0 m \\frac{d^{2}}{d t^{2}} x{\\left(t \\right)} = F$"
      ],
      "text/plain": [
       "                                                  2          \n",
       "                                                 d           \n",
       "-M⋅l⋅sin(Θ(t)) - M⋅l⋅sin(Φ(t)) - M⋅x(t) + 1.0⋅m⋅───(x(t)) = F\n",
       "                                                  2          \n",
       "                                                dt           "
      ]
     },
     "execution_count": 55,
     "metadata": {},
     "output_type": "execute_result"
    }
   ],
   "source": [
    "# euler-lagrange\n",
    "euler_1 = sympy.Eq((L.diff(x.diff(t)).diff(t) - L.diff(x)).simplify().expand().collect(x.diff(t, t)), F)\n",
    "euler_2 = sympy.Eq((L.diff(Θ.diff(t)).diff(t) - L.diff(Θ)).simplify().expand().collect(Θ.diff(t, t)), 0)\n",
    "euler_3 = sympy.Eq((L.diff(Φ.diff(t)).diff(t) - L.diff(Φ)).simplify().expand().collect(Φ.diff(t, t)), 0)\n",
    "\n",
    "print('The Euler-Lagrange equations:\\n1.')\n",
    "euler_1"
   ]
  },
  {
   "cell_type": "code",
   "execution_count": 51,
   "id": "processed-membrane",
   "metadata": {},
   "outputs": [
    {
     "name": "stdout",
     "output_type": "stream",
     "text": [
      "2.\n"
     ]
    },
    {
     "data": {
      "image/png": "[encoded data removed]",
      "text/latex": [
       "$\\displaystyle 1.0 I \\frac{d^{2}}{d t^{2}} Θ{\\left(t \\right)} - 2 M g l \\sin{\\left(Θ{\\left(t \\right)} \\right)} + M l^{2} \\sin{\\left(Θ{\\left(t \\right)} - Φ{\\left(t \\right)} \\right)} - M l x{\\left(t \\right)} \\cos{\\left(Θ{\\left(t \\right)} \\right)} = 0$"
      ],
      "text/plain": [
       "        2                                                                     \n",
       "       d                                 2                                    \n",
       "1.0⋅I⋅───(Θ(t)) - 2⋅M⋅g⋅l⋅sin(Θ(t)) + M⋅l ⋅sin(Θ(t) - Φ(t)) - M⋅l⋅x(t)⋅cos(Θ(t\n",
       "        2                                                                     \n",
       "      dt                                                                      \n",
       "\n",
       "      \n",
       "      \n",
       ")) = 0\n",
       "      \n",
       "      "
      ]
     },
     "execution_count": 51,
     "metadata": {},
     "output_type": "execute_result"
    }
   ],
   "source": [
    "print('2.')\n",
    "euler_2"
   ]
  },
  {
   "cell_type": "code",
   "execution_count": 52,
   "id": "circular-helicopter",
   "metadata": {},
   "outputs": [
    {
     "name": "stdout",
     "output_type": "stream",
     "text": [
      "3.\n"
     ]
    },
    {
     "data": {
      "image/png": "[encoded data removed]",
      "text/latex": [
       "$\\displaystyle 1.0 I \\frac{d^{2}}{d t^{2}} Φ{\\left(t \\right)} - M g l \\sin{\\left(Φ{\\left(t \\right)} \\right)} - M l^{2} \\sin{\\left(Θ{\\left(t \\right)} - Φ{\\left(t \\right)} \\right)} - M l x{\\left(t \\right)} \\cos{\\left(Φ{\\left(t \\right)} \\right)} = 0$"
      ],
      "text/plain": [
       "        2                                                                     \n",
       "       d                               2                                      \n",
       "1.0⋅I⋅───(Φ(t)) - M⋅g⋅l⋅sin(Φ(t)) - M⋅l ⋅sin(Θ(t) - Φ(t)) - M⋅l⋅x(t)⋅cos(Φ(t))\n",
       "        2                                                                     \n",
       "      dt                                                                      \n",
       "\n",
       "    \n",
       "    \n",
       " = 0\n",
       "    \n",
       "    "
      ]
     },
     "execution_count": 52,
     "metadata": {},
     "output_type": "execute_result"
    }
   ],
   "source": [
    "print('3.')\n",
    "euler_3"
   ]
  },
  {
   "cell_type": "markdown",
   "id": "incorrect-congress",
   "metadata": {},
   "source": [
    "### 4.5. Linearisation"
   ]
  },
  {
   "cell_type": "code",
   "execution_count": null,
   "id": "solid-title",
   "metadata": {},
   "outputs": [],
   "source": []
  }
 ],
 "metadata": {
  "kernelspec": {
   "display_name": "Python 3",
   "language": "python",
   "name": "python3"
  },
  "language_info": {
   "codemirror_mode": {
    "name": "ipython",
    "version": 3
   },
   "file_extension": ".py",
   "mimetype": "text/x-python",
   "name": "python",
   "nbconvert_exporter": "python",
   "pygments_lexer": "ipython3",
   "version": "3.8.5"
  }
 },
 "nbformat": 4,
 "nbformat_minor": 5
}
