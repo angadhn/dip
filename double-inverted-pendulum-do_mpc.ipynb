{
 "cells": [
  {
   "cell_type": "markdown",
   "metadata": {},
   "source": [
    "# Double Inverted Pendulum (DIP) modelling\n",
    "***"
   ]
  },
  {
   "attachments": {
    "image.png": {
     "image/png": "[encoded data removed]"
    }
   },
   "cell_type": "markdown",
   "metadata": {},
   "source": [
    "## 1. Model\n",
    "*********\n",
    "\n",
    "* Configuration\n",
    "* Setup\n",
    "* Connection\n",
    "\n",
    "![image.png](attachment:image.png)"
   ]
  },
  {
   "cell_type": "code",
   "execution_count": 1,
   "metadata": {},
   "outputs": [],
   "source": [
    "# necessary imports\n",
    "import numpy as np\n",
    "import sys\n",
    "from casadi import *\n",
    "import do_mpc"
   ]
  },
  {
   "cell_type": "code",
   "execution_count": 2,
   "metadata": {},
   "outputs": [],
   "source": [
    "# system is described in terms of its horizontal position x and the two angles θ,\n",
    "# where θ1=θ2=0 denotes the upright position.\n",
    "model_type = 'continuous' # either 'discrete' or 'continuous'\n",
    "model = do_mpc.model.Model(model_type)"
   ]
  },
  {
   "cell_type": "code",
   "execution_count": 3,
   "metadata": {},
   "outputs": [],
   "source": [
    "# model parameters\n",
    "m0 = 0.6  # kg, mass of the cart\n",
    "m1 = 0.2  # kg_1, mass of the first rod\n",
    "m2 = 0.2  # kg_2, mass of the second rod\n",
    "L1 = 0.5  # m_1,  length of the first rod\n",
    "L2 = 0.5  # m_2,  length of the second rod\n",
    "g = 9.80665 # m/s^2, Gravity"
   ]
  },
  {
   "cell_type": "code",
   "execution_count": 4,
   "metadata": {},
   "outputs": [],
   "source": [
    "# simplified parameters\n",
    "l1 = L1/2 # m,\n",
    "l2 = L2/2 # m,\n",
    "J1 = (m1 * l1**2) / 3   # Inertia\n",
    "J2 = (m2 * l2**2) / 3   # Inertia\n",
    "\n",
    "h1 = m0 + m1 + m2\n",
    "h2 = m1*l1 + m2*L1\n",
    "h3 = m2*l2\n",
    "h4 = m1*l1**2 + m2*L1**2 + J1\n",
    "h5 = m2*l2*L1\n",
    "h6 = m2*l2**2 + J2\n",
    "h7 = (m1*l1 + m2*L1) * g\n",
    "h8 = m2*l2*g"
   ]
  },
  {
   "cell_type": "markdown",
   "metadata": {},
   "source": [
    "## 2. Euler-Lagrangian equations\n",
    "*****\n",
    "\n",
    "$$\\begin{align}\n",
    "h_1\\ddot{x}+h_2\\ddot{\\theta}_1\\cos(\\theta_1)+h_3\\ddot{\\theta}_2\\cos(\\theta_2)\n",
    "= (h_2\\dot{\\theta}_1^{2}\\sin(\\theta_1) + h_3\\dot{\\theta}_2^{2}\\sin(\\theta_2) + u)\\\\\n",
    "h_2\\cos(\\theta_1)\\ddot{x} + h_4\\ddot{\\theta}_1 + h_5\\cos(\\theta_1-\\theta_2)\\ddot{\\theta}_2\n",
    "= (h_7\\sin(\\theta_1) - h_5\\dot{\\theta}_2^{2}\\sin(\\theta_1-\\theta_2))\\\\\n",
    "h_3\\cos(\\theta_2)\\ddot{x} + h_5\\cos(\\theta_1-\\theta_2)\\ddot{\\theta}_1 + h_6\\ddot{\\theta}_2\n",
    "= (h_5\\dot{\\theta}_1^{2}\\sin(\\theta_1-\\theta_2) + h_8\\sin(\\theta_2))\n",
    "\\end{align}$$\n",
    "\n",
    "* Dynamics of the double pendulum"
   ]
  },
  {
   "cell_type": "code",
   "execution_count": 5,
   "metadata": {},
   "outputs": [],
   "source": [
    "# Euler-Lagrangian equation parameter definition\n",
    "pos = model.set_variable('_x',  'pos')\n",
    "theta = model.set_variable('_x',  'theta', (2,1))\n",
    "dpos = model.set_variable('_x',  'dpos')\n",
    "dtheta = model.set_variable('_x',  'dtheta', (2,1))\n",
    "\n",
    "# horizontal force\n",
    "u = model.set_variable('_u',  'force')"
   ]
  },
  {
   "cell_type": "code",
   "execution_count": 6,
   "metadata": {},
   "outputs": [],
   "source": [
    "# Differential algebraic equation (DAE): algebraic states that allow formulation \n",
    "# of the ODE in terms of {x, u, z}\n",
    "ddpos = model.set_variable('_z', 'ddpos')\n",
    "ddtheta = model.set_variable('_z', 'ddtheta', (2,1))\n",
    "model.set_rhs('pos', dpos)\n",
    "model.set_rhs('theta', dtheta)\n",
    "model.set_rhs('dpos', ddpos)\n",
    "model.set_rhs('dtheta', ddtheta)"
   ]
  },
  {
   "cell_type": "code",
   "execution_count": 7,
   "metadata": {},
   "outputs": [],
   "source": [
    "# Euler-Lagrangian equations to define the dynamics of the double pendulum\n",
    "euler_lagrange = vertcat(\n",
    "        # 1\n",
    "        h1*ddpos+h2*ddtheta[0]*cos(theta[0])+h3*ddtheta[1]*cos(theta[1])\n",
    "        - (h2*dtheta[0]**2*sin(theta[0]) + h3*dtheta[1]**2*sin(theta[1]) + u),\n",
    "        # 2\n",
    "        h2*cos(theta[0])*ddpos + h4*ddtheta[0] + h5*cos(theta[0]-theta[1])*ddtheta[1]\n",
    "        - (h7*sin(theta[0]) - h5*dtheta[1]**2*sin(theta[0]-theta[1])),\n",
    "        # 3\n",
    "        h3*cos(theta[1])*ddpos + h5*cos(theta[0]-theta[1])*ddtheta[0] + h6*ddtheta[1]\n",
    "        - (h5*dtheta[0]**2*sin(theta[0]-theta[1]) + h8*sin(theta[1]))\n",
    "    )\n",
    "\n",
    "model.set_alg('euler_lagrange', euler_lagrange)"
   ]
  },
  {
   "cell_type": "markdown",
   "metadata": {},
   "source": [
    "## 3. The energy equations\n",
    "***\n",
    "\n",
    "* Kinetic energy\n",
    "* Potential energy\n",
    "* Building the model"
   ]
  },
  {
   "cell_type": "markdown",
   "metadata": {},
   "source": [
    "### 3.1. Kinetic energy\n",
    "\n",
    "$$\\begin{align}\n",
    "E_{\\text{kin.,cart}} &= \\frac{1}{2}  m  \\dot{x}^{2}\\\\\n",
    "E_{\\text{kin.,}p_1} &= \\frac{1}{2}  m_1  (\n",
    "    (\\dot{x} + l_1  \\dot{\\theta}_1  \\cos(\\theta_1))^{2} +\n",
    "    (l_1  \\dot{\\theta}_1  \\sin(\\theta_1))^{2}) + \\frac{1}{2}  J_1  \\dot{\\theta}_1^{2}\\\\\n",
    "E_{\\text{kin,}p_2} &= \\frac{1}{2}  m_2  (\n",
    "    (\\dot{x} + L_1  \\dot{\\theta}_1  \\cos(\\theta_1) + l_2  \\dot{\\theta}_2  \\cos(\\theta_2))^{2} + (L_1  \\dot{\\theta}_1  \\sin(\\theta_1) + l_2  \\dot{\\theta}_2  \\sin(\\theta_2))^2) + \\frac{1}{2}  J_2  \\dot{\\theta}_1^{2}\n",
    "\\end{align}$$"
   ]
  },
  {
   "cell_type": "code",
   "execution_count": 8,
   "metadata": {},
   "outputs": [],
   "source": [
    "# kinectic energy equations\n",
    "E_kin_cart = 1 / 2 * m0 * dpos**2\n",
    "E_kin_p1 = 1 / 2 * m1 * (\n",
    "    (dpos + l1 * dtheta[0] * cos(theta[0]))**2 +\n",
    "    (l1 * dtheta[0] * sin(theta[0]))**2) + 1 / 2 * J1 * dtheta[0]**2\n",
    "E_kin_p2 = 1 / 2 * m2 * (\n",
    "    (dpos + L1 * dtheta[0] * cos(theta[0]) + l2 * dtheta[1] * cos(theta[1]))**2 +\n",
    "    (L1 * dtheta[0] * sin(theta[0]) + l2 * dtheta[1] * sin(theta[1]))**\n",
    "    2) + 1 / 2 * J2 * dtheta[0]**2\n",
    "\n",
    "E_kin = E_kin_cart + E_kin_p1 + E_kin_p2"
   ]
  },
  {
   "cell_type": "markdown",
   "metadata": {},
   "source": [
    "### 3.2. Potential energy \n",
    "\n",
    "$$E_{\\text{pot.}} = m_1 g  l_1 \\cos(\n",
    "    \\theta_1) + m_2 g (L_1 \\cos(\\theta_1) +\n",
    "                                l_2 \\cos(\\theta_2))$$"
   ]
  },
  {
   "cell_type": "code",
   "execution_count": 9,
   "metadata": {},
   "outputs": [
    {
     "data": {
      "text/plain": [
       "SX(((0.490333*cos(theta_0))+(1.96133*((0.5*cos(theta_0))+(0.25*cos(theta_1))))))"
      ]
     },
     "execution_count": 9,
     "metadata": {},
     "output_type": "execute_result"
    }
   ],
   "source": [
    "# potential energy equations\n",
    "E_pot = m1 * g * l1 * cos(\n",
    "theta[0]) + m2 * g * (L1 * cos(theta[0]) +\n",
    "                            l2 * cos(theta[1]))\n",
    "\n",
    "model.set_expression('E_kin', E_kin)\n",
    "model.set_expression('E_pot', E_pot)"
   ]
  },
  {
   "cell_type": "code",
   "execution_count": 10,
   "metadata": {},
   "outputs": [],
   "source": [
    "# build the model\n",
    "model.setup()"
   ]
  },
  {
   "cell_type": "markdown",
   "metadata": {},
   "source": [
    "## 4. Controller\n",
    "***\n",
    "\n",
    "* Prediction model"
   ]
  },
  {
   "cell_type": "code",
   "execution_count": 11,
   "metadata": {},
   "outputs": [],
   "source": [
    "# instance of the MPC class\n",
    "mpc = do_mpc.controller.MPC(model)"
   ]
  },
  {
   "cell_type": "code",
   "execution_count": 12,
   "metadata": {},
   "outputs": [],
   "source": [
    "# prediction parameters\n",
    "setup_mpc = {\n",
    "    'n_horizon': 100,\n",
    "    'n_robust': 0,\n",
    "    'open_loop': 0,\n",
    "    't_step': 0.04,\n",
    "    'state_discretization': 'collocation',\n",
    "    'collocation_type': 'radau',\n",
    "    'collocation_deg': 3,\n",
    "    'collocation_ni': 1,\n",
    "    'store_full_solution': True,\n",
    "    # Use MA27 linear solver in ipopt for faster calculations:\n",
    "    'nlpsol_opts': {'ipopt.linear_solver': 'mumps'}\n",
    "}\n",
    "mpc.set_param(**setup_mpc)"
   ]
  },
  {
   "cell_type": "markdown",
   "metadata": {},
   "source": [
    "## 5. Objective\n",
    "***\n",
    "\n",
    "* Based on the energy equations\n",
    "* Erect the double pendulum\n",
    "* Stabilisation "
   ]
  },
  {
   "cell_type": "code",
   "execution_count": 13,
   "metadata": {},
   "outputs": [],
   "source": [
    "# the fomulation of the objective function\n",
    "mterm = model.aux['E_kin'] - model.aux['E_pot'] # terminal cost\n",
    "lterm = model.aux['E_kin'] - model.aux['E_pot'] # stage cost\n",
    "\n",
    "mpc.set_objective(mterm=mterm, lterm=lterm)\n",
    "# Input force is implicitly restricted through the objective.\n",
    "mpc.set_rterm(force=0.1)"
   ]
  },
  {
   "cell_type": "markdown",
   "metadata": {},
   "source": [
    "## 6. Constraints\n",
    "***\n",
    "\n",
    "* Upper bound\n",
    "* Lower bound\n",
    "* Setup"
   ]
  },
  {
   "cell_type": "code",
   "execution_count": 14,
   "metadata": {},
   "outputs": [],
   "source": [
    "# lower bound\n",
    "mpc.bounds['lower','_u','force'] = -4\n",
    "# upper bound\n",
    "mpc.bounds['upper','_u','force'] = 4"
   ]
  },
  {
   "cell_type": "code",
   "execution_count": 15,
   "metadata": {},
   "outputs": [],
   "source": [
    "# setup of the controller\n",
    "mpc.setup()"
   ]
  },
  {
   "cell_type": "markdown",
   "metadata": {},
   "source": [
    "## 7. Estimator\n",
    "***\n",
    "\n",
    "* State-feedback"
   ]
  },
  {
   "cell_type": "code",
   "execution_count": 16,
   "metadata": {},
   "outputs": [],
   "source": [
    "estimator = do_mpc.estimator.StateFeedback(model)"
   ]
  },
  {
   "cell_type": "markdown",
   "metadata": {},
   "source": [
    "## 8. Simulator\n",
    "***\n",
    "\n",
    "* Model Predictive Control (MPC) in a closed-loop"
   ]
  },
  {
   "cell_type": "code",
   "execution_count": 17,
   "metadata": {},
   "outputs": [],
   "source": [
    "simulator = do_mpc.simulator.Simulator(model)"
   ]
  },
  {
   "cell_type": "code",
   "execution_count": 18,
   "metadata": {},
   "outputs": [],
   "source": [
    "# parameters of the simulator\n",
    "params_simulator = {\n",
    "    'integration_tool': 'idas',\n",
    "    'abstol': 1e-4,\n",
    "    'reltol': 1e-4,\n",
    "    't_step': 0.04\n",
    "}\n",
    "\n",
    "simulator.set_param(**params_simulator)"
   ]
  },
  {
   "cell_type": "code",
   "execution_count": 19,
   "metadata": {},
   "outputs": [],
   "source": [
    "# setup of the simulator\n",
    "simulator.setup()"
   ]
  },
  {
   "cell_type": "markdown",
   "metadata": {},
   "source": [
    "## 9. Closed-loop simulation\n",
    "***\n",
    "\n",
    "* Define initial state\n",
    "* Setup the configuration\n",
    "* Prepare visualisation using `matplotlib`\n",
    "* Take input states to define position of ${x, y}$ at time $t$\n",
    "* Graphics setup\n",
    "* Run open-loop example to check validity of the visualisation\n",
    "* Run closed-loop"
   ]
  },
  {
   "cell_type": "code",
   "execution_count": 20,
   "metadata": {},
   "outputs": [],
   "source": [
    "# initial state\n",
    "simulator.x0['theta'] = 0.99*np.pi\n",
    "\n",
    "x0 = simulator.x0.cat.full()\n",
    "\n",
    "mpc.x0 = x0\n",
    "estimator.x0 = x0\n",
    "\n",
    "mpc.set_initial_guess()"
   ]
  },
  {
   "cell_type": "code",
   "execution_count": 21,
   "metadata": {},
   "outputs": [],
   "source": [
    "# matplotlin basic settings\n",
    "import matplotlib.pyplot as plt\n",
    "plt.ion()\n",
    "from matplotlib import rcParams\n",
    "rcParams['text.usetex'] = False\n",
    "rcParams['axes.grid'] = True\n",
    "rcParams['lines.linewidth'] = 2.0\n",
    "rcParams['axes.labelsize'] = 'xx-large'\n",
    "rcParams['xtick.labelsize'] = 'xx-large'\n",
    "rcParams['ytick.labelsize'] = 'xx-large'"
   ]
  },
  {
   "cell_type": "code",
   "execution_count": 22,
   "metadata": {},
   "outputs": [],
   "source": [
    "# the current estimated state, the predicted trajectory of the \n",
    "# states and inputs based on the solution of the control problem. \n",
    "mpc_graphics = do_mpc.graphics.Graphics(mpc.data)"
   ]
  },
  {
   "cell_type": "code",
   "execution_count": 23,
   "metadata": {},
   "outputs": [],
   "source": [
    "# retrieve input states\n",
    "def pendulum_bars(x):\n",
    "    x = x.flatten()\n",
    "    # Get the x,y coordinates of the two bars for the given state x.\n",
    "    line_1_x = np.array([\n",
    "        x[0],\n",
    "        x[0]+L1*np.sin(x[1])\n",
    "    ])\n",
    "\n",
    "    line_1_y = np.array([\n",
    "        0,\n",
    "        L1*np.cos(x[1])\n",
    "    ])\n",
    "\n",
    "    line_2_x = np.array([\n",
    "        line_1_x[1],\n",
    "        line_1_x[1] + L2*np.sin(x[2])\n",
    "    ])\n",
    "\n",
    "    line_2_y = np.array([\n",
    "        line_1_y[1],\n",
    "        line_1_y[1] + L2*np.cos(x[2])\n",
    "    ])\n",
    "\n",
    "    line_1 = np.stack((line_1_x, line_1_y))\n",
    "    line_2 = np.stack((line_2_x, line_2_y))\n",
    "\n",
    "    return line_1, line_2\n",
    "\n",
    "# graphics setup"
   ]
  },
  {
   "cell_type": "code",
   "execution_count": 24,
   "metadata": {},
   "outputs": [],
   "source": [
    "%%capture\n",
    "\n",
    "fig = plt.figure(figsize=(16,9))\n",
    "\n",
    "ax1 = plt.subplot2grid((4, 2), (0, 0), rowspan=4)\n",
    "ax2 = plt.subplot2grid((4, 2), (0, 1))\n",
    "ax3 = plt.subplot2grid((4, 2), (1, 1))\n",
    "ax4 = plt.subplot2grid((4, 2), (2, 1))\n",
    "ax5 = plt.subplot2grid((4, 2), (3, 1))\n",
    "\n",
    "ax2.set_ylabel('$E_{kin}$ [J]')\n",
    "ax3.set_ylabel('$E_{pot}$ [J]')\n",
    "ax4.set_ylabel('Angle  [rad]')\n",
    "ax5.set_ylabel('Input force [N]')\n",
    "\n",
    "# Axis on the right.\n",
    "for ax in [ax2, ax3, ax4, ax5]:\n",
    "    ax.yaxis.set_label_position(\"right\")\n",
    "    ax.yaxis.tick_right()\n",
    "    if ax != ax5:\n",
    "        ax.xaxis.set_ticklabels([])\n",
    "\n",
    "ax5.set_xlabel('time [s]')\n",
    "\n",
    "mpc_graphics.add_line(var_type='_aux', var_name='E_kin', axis=ax2)\n",
    "mpc_graphics.add_line(var_type='_aux', var_name='E_pot', axis=ax3)\n",
    "mpc_graphics.add_line(var_type='_x', var_name='theta', axis=ax4)\n",
    "mpc_graphics.add_line(var_type='_u', var_name='force', axis=ax5)\n",
    "\n",
    "ax1.axhline(0,color='black')\n",
    "\n",
    "bar1 = ax1.plot([],[], '-o', linewidth=5, markersize=10)\n",
    "bar2 = ax1.plot([],[], '-o', linewidth=5, markersize=10)\n",
    "\n",
    "ax1.set_xlim(-1.8,1.8)\n",
    "ax1.set_ylim(-1.2,1.2)\n",
    "ax1.set_axis_off()\n",
    "\n",
    "fig.align_ylabels()\n",
    "fig.tight_layout()"
   ]
  },
  {
   "cell_type": "markdown",
   "metadata": {},
   "source": [
    "### 9.1. Open-loop example check"
   ]
  },
  {
   "cell_type": "code",
   "execution_count": 25,
   "metadata": {},
   "outputs": [
    {
     "name": "stdout",
     "output_type": "stream",
     "text": [
      "\n",
      "******************************************************************************\n",
      "This program contains Ipopt, a library for large-scale nonlinear optimization.\n",
      " Ipopt is released as open source code under the Eclipse Public License (EPL).\n",
      "         For more information visit http://projects.coin-or.org/Ipopt\n",
      "******************************************************************************\n",
      "\n",
      "This is Ipopt version 3.12.3, running with linear solver mumps.\n",
      "NOTE: Other linear solvers might be more efficient (see Ipopt documentation).\n",
      "\n",
      "Number of nonzeros in equality constraint Jacobian...:    19406\n",
      "Number of nonzeros in inequality constraint Jacobian.:        0\n",
      "Number of nonzeros in Lagrangian Hessian.............:     6814\n",
      "\n",
      "Total number of variables............................:     4330\n",
      "                     variables with only lower bounds:        0\n",
      "                variables with lower and upper bounds:      100\n",
      "                     variables with only upper bounds:        0\n",
      "Total number of equality constraints.................:     4206\n",
      "Total number of inequality constraints...............:        0\n",
      "        inequality constraints with only lower bounds:        0\n",
      "   inequality constraints with lower and upper bounds:        0\n",
      "        inequality constraints with only upper bounds:        0\n",
      "\n",
      "iter    objective    inf_pr   inf_du lg(mu)  ||d||  lg(rg) alpha_du alpha_pr  ls\n",
      "   0 1.9799658e+002 4.62e-002 1.00e-003  -1.0 0.00e+000    -  0.00e+000 0.00e+000   0\n",
      "   1 1.9809206e+002 7.33e-005 3.25e-004  -1.0 1.53e+000  -4.0 1.00e+000 1.00e+000h  1\n",
      "   2 1.9808344e+002 8.59e-005 1.22e-004  -2.5 4.56e-001  -3.6 1.00e+000 1.00e+000h  1\n",
      "   3 1.9753270e+002 2.78e+000 5.70e-001  -3.8 2.32e+001  -4.1 6.69e-001 1.00e+000f  1\n",
      "   4 1.9586898e+002 2.82e-001 3.12e-001  -3.8 1.14e+001  -3.6 3.78e-001 1.00e+000h  1\n",
      "   5 1.9529674e+002 1.38e+000 1.17e+000  -3.8 5.85e+001  -4.1 4.40e-001 4.20e-001H  1\n",
      "   6 1.9266815e+002 2.02e-001 3.44e-001  -3.8 9.02e+000  -3.7 1.63e-002 1.00e+000h  1\n",
      "   7 1.9230231e+002 1.47e-001 2.58e-001  -3.8 2.10e+001  -4.2 9.32e-001 2.44e-001h  1\n",
      "   8 1.9168746e+002 3.42e-002 2.53e-002  -3.8 6.96e+000  -3.7 1.00e+000 1.00e+000h  1\n",
      "   9 1.9143721e+002 3.64e-002 1.08e-001  -3.8 2.48e+001  -4.2 1.00e+000 1.82e-001h  1\n",
      "iter    objective    inf_pr   inf_du lg(mu)  ||d||  lg(rg) alpha_du alpha_pr  ls\n",
      "  10 1.9079370e+002 3.46e-001 7.82e-001  -3.8 4.32e+002  -4.7 4.15e-001 6.65e-002f  1\n",
      "  11 1.8908306e+002 4.01e-001 4.09e-001  -3.8 4.52e+001  -4.3 1.00e+000 8.14e-001h  1\n",
      "  12 1.8756861e+002 2.58e-001 1.53e-001  -3.8 1.60e+001  -3.8 9.86e-001 1.00e+000h  1\n",
      "  13 1.8672963e+002 1.14e-001 1.17e-001  -3.8 9.14e+000  -3.4 1.00e+000 7.85e-001h  1\n",
      "  14 1.8599444e+002 2.54e-001 2.29e-001  -3.8 6.29e+001  -3.9 1.00e+000 1.66e-001f  1\n",
      "  15 1.8497680e+002 2.03e-001 2.37e-001  -3.8 1.23e+001  -3.5 4.49e-001 1.00e+000h  1\n",
      "  16 1.8431902e+002 1.32e+000 8.76e-001  -3.8 2.62e+002  -3.9 4.75e-001 1.14e-001f  1\n",
      "  17 1.8419241e+002 1.26e+000 8.40e-001  -3.8 1.56e+002  -4.4 4.12e-001 4.26e-002h  1\n",
      "  18 1.8355642e+002 1.89e-001 3.51e-001  -3.8 1.42e+001  -4.0 4.32e-001 1.00e+000h  1\n",
      "  19 1.8340528e+002 8.42e-002 1.34e-001  -3.8 1.80e+001  -3.6 3.85e-001 6.91e-001h  1\n",
      "iter    objective    inf_pr   inf_du lg(mu)  ||d||  lg(rg) alpha_du alpha_pr  ls\n",
      "  20 1.8278290e+002 1.71e-001 8.75e-002  -3.8 1.52e+001  -4.0 5.64e-001 1.00e+000h  1\n",
      "  21 1.8137877e+002 1.19e+000 1.93e-001  -3.8 4.27e+001  -4.5 7.99e-001 1.00e+000h  1\n",
      "  22 1.8054394e+002 9.66e-001 2.76e-001  -3.8 2.48e+002  -5.0 1.00e+000 1.90e-001h  1\n",
      "  23 1.7935141e+002 6.67e-001 6.46e-001  -3.8 7.50e+001  -4.6 1.00e+000 1.00e+000h  1\n",
      "  24 1.7911409e+002 2.49e-002 6.09e-002  -3.8 2.17e+001  -4.1 8.34e-001 1.00e+000h  1\n",
      "  25 1.7901217e+002 2.49e-002 7.69e-002  -3.8 1.01e+002  -5.1 1.00e+000 7.60e-002h  1\n",
      "  26 1.7841964e+002 3.14e-001 2.48e-001  -3.8 2.56e+002  -5.6 1.00e+000 2.07e-001f  1\n",
      "  27 1.7779311e+002 4.29e-001 2.39e-001  -3.8 2.35e+002  -5.1 6.42e-001 1.87e-001h  1\n",
      "  28 1.7641493e+002 3.35e+000 5.22e+000  -3.8 2.10e+002  -4.7 1.00e+000 8.47e-001h  1\n",
      "  29 1.7645866e+002 2.41e+000 3.83e+000  -3.8 5.03e+001  -4.3 3.56e-003 3.01e-001h  1\n",
      "iter    objective    inf_pr   inf_du lg(mu)  ||d||  lg(rg) alpha_du alpha_pr  ls\n",
      "  30 1.7678347e+002 4.10e-001 2.53e+000  -3.8 5.37e+001  -3.9 6.38e-001 1.00e+000h  1\n",
      "  31 1.7626872e+002 1.41e-001 1.57e-001  -3.8 3.71e+001  -4.3 1.00e+000 1.00e+000h  1\n",
      "  32 1.7595595e+002 1.68e-001 1.65e-001  -3.8 1.13e+002  -4.8 4.39e-001 2.67e-001h  1\n",
      "  33 1.7542093e+002 1.98e-001 9.70e-002  -3.8 5.13e+001  -4.4 1.00e+000 1.00e+000h  1\n",
      "  34 1.7511185e+002 6.43e-002 1.12e-001  -3.8 3.50e+001  -4.0 1.00e+000 1.00e+000h  1\n",
      "  35 1.7415559e+002 6.50e-001 1.10e+000  -3.8 1.31e+002  -4.4 8.92e-001 7.73e-001f  1\n",
      "  36 1.7380288e+002 3.13e-002 1.50e-001  -3.8 3.09e+001  -4.0 7.01e-001 1.00e+000h  1\n",
      "  37 1.7304848e+002 9.75e-002 3.54e-001  -3.8 5.16e+001  -4.5 8.25e-001 1.00e+000h  1\n",
      "  38 1.7285605e+002 9.13e-002 3.20e-001  -3.8 1.54e+002  -5.0 2.54e-001 8.40e-002h  1\n",
      "  39 1.7252950e+002 9.73e-002 3.00e-001  -3.8 3.42e+002  -5.4 2.53e-001 7.95e-002h  1\n",
      "iter    objective    inf_pr   inf_du lg(mu)  ||d||  lg(rg) alpha_du alpha_pr  ls\n",
      "  40 1.7200551e+002 1.49e-001 2.55e-001  -3.8 1.47e+002  -5.0 3.78e-001 3.66e-001h  1\n",
      "  41 1.7157999e+002 1.24e-001 3.12e-001  -3.8 5.67e+001  -4.6 1.00e+000 1.00e+000h  1\n",
      "  42 1.7119524e+002 3.75e-001 1.99e-001  -3.8 2.21e+002  -5.1 5.87e-001 3.09e-001h  1\n",
      "  43 1.7097272e+002 3.44e-001 1.89e-001  -3.8 1.65e+002  -4.6 1.00e+000 3.35e-001h  1\n",
      "  44 1.7078865e+002 8.53e-002 2.85e-001  -3.8 5.44e+001  -4.2 1.00e+000 1.00e+000h  1\n",
      "  45 1.7024868e+002 4.88e-001 1.27e+000  -3.8 2.24e+002  -4.7 3.93e-001 4.54e-001h  1\n",
      "  46 1.7001929e+002 1.26e-001 1.96e-001  -3.8 6.59e+001  -4.3 1.00e+000 7.89e-001h  1\n",
      "  47 1.6968674e+002 1.12e-001 4.08e-001  -3.8 6.88e+001  -4.8 1.00e+000 1.00e+000h  1\n",
      "  48 1.6906303e+002 4.92e-001 1.04e+000  -3.8 1.39e+002  -5.2 1.00e+000 1.00e+000h  1\n",
      "  49 1.6886981e+002 1.19e-001 1.54e-001  -3.8 7.22e+001  -4.8 1.00e+000 1.00e+000h  1\n",
      "iter    objective    inf_pr   inf_du lg(mu)  ||d||  lg(rg) alpha_du alpha_pr  ls\n",
      "  50 1.6869616e+002 1.07e+000 8.69e-001  -3.8 4.15e+002  -5.3 1.69e-001 1.82e-001h  1\n",
      "  51 1.6829813e+002 6.56e-001 5.55e-001  -3.8 1.59e+002  -4.9 1.56e-002 3.75e-001h  1\n",
      "  52 1.6813212e+002 1.78e-001 4.90e-001  -3.8 6.84e+001  -4.4 1.00e+000 1.00e+000h  1\n",
      "  53 1.6790310e+002 2.83e-001 8.01e-001  -3.8 1.70e+003  -4.9 1.88e-002 2.72e-002h  1\n",
      "  54 1.6725101e+002 9.59e-001 8.27e-001  -3.8 9.57e+001  -4.5 7.48e-001 1.00e+000h  1\n",
      "  55 1.6704769e+002 1.91e-001 1.78e-001  -3.8 7.40e+001  -5.0 1.00e+000 1.00e+000h  1\n",
      "  56 1.6657356e+002 9.58e-001 5.43e-001  -3.8 1.29e+002  -5.4 1.00e+000 6.39e-001h  1\n",
      "  57 1.6606471e+002 6.17e-001 4.89e-001  -3.8 9.69e+001  -5.0 1.00e+000 1.00e+000h  1\n",
      "  58 1.6464272e+002 5.07e+000 7.50e+000  -3.8 1.62e+003  -5.5 4.56e-002 1.58e-001f  1\n",
      "  59 1.6626159e+002 1.68e+000 2.52e+000  -3.8 9.05e+001  -5.1 1.00e+000 8.45e-001h  1\n",
      "iter    objective    inf_pr   inf_du lg(mu)  ||d||  lg(rg) alpha_du alpha_pr  ls\n",
      "  60 1.6458662e+002 1.33e+000 3.83e+000  -3.8 2.07e+002  -4.6 5.73e-001 6.34e-001h  1\n",
      "  61 1.6393555e+002 5.06e-001 1.56e+000  -3.8 1.98e+002  -5.1 1.00e+000 1.00e+000h  1\n",
      "  62 1.6335159e+002 1.02e+000 1.14e+000  -3.8 2.38e+002  -5.6 1.00e+000 6.25e-001h  1\n",
      "  63 1.6158405e+002 6.86e+000 8.40e+000  -3.8 2.86e+002  -5.2 1.81e-001 1.00e+000h  1\n",
      "  64 1.6215958e+002 5.45e+000 6.73e+000  -3.8 9.45e+001  -4.7 1.00e+000 2.15e-001h  1\n",
      "  65 1.6273466e+002 3.79e+000 4.83e+000  -3.8 9.35e+001  -4.3 1.00e+000 3.27e-001h  1\n",
      "  66 1.6183355e+002 1.80e+000 2.33e+000  -3.8 1.71e+002  -4.8 7.42e-002 5.37e-001h  1\n",
      "  67 1.6091649e+002 6.21e-001 1.95e+000  -3.8 1.90e+002  -5.3 2.54e-001 1.00e+000h  1\n",
      "  68 1.5984939e+002 8.56e+000 5.36e+000  -3.8 5.89e+002  -5.7 3.10e-001 6.94e-001h  1\n",
      "  69 1.5879235e+002 5.00e+000 2.61e+000  -3.8 3.62e+002  -5.3 3.31e-001 3.85e-001h  1\n",
      "iter    objective    inf_pr   inf_du lg(mu)  ||d||  lg(rg) alpha_du alpha_pr  ls\n",
      "  70 1.5878528e+002 1.98e+000 9.23e-001  -3.8 1.22e+002  -4.9 4.57e-001 6.28e-001h  1\n",
      "  71 1.5737835e+002 1.80e+000 1.53e+000  -3.8 2.68e+002  -5.4 2.19e-001 6.64e-001h  1\n",
      "  72 1.5708650e+002 1.64e+000 1.44e+000  -3.8 5.33e+002  -4.9 1.50e-002 8.87e-002h  1\n",
      "  73 1.5683289e+002 5.99e-001 1.52e+000  -3.8 1.38e+002  -4.5 2.34e-001 1.00e+000f  1\n",
      "  74 1.5669989e+002 3.72e-001 8.79e-001  -3.8 4.34e+001  -4.1 7.25e-001 3.93e-001h  1\n",
      "  75 1.5604987e+002 5.37e-001 6.23e-001  -3.8 8.31e+001  -4.6 6.88e-001 1.00e+000h  1\n",
      "  76 1.5588161e+002 4.59e-001 5.45e-001  -3.8 1.32e+002  -5.0 2.47e-001 1.82e-001h  1\n",
      "  77 1.5563047e+002 4.74e-001 5.73e-001  -3.8 4.92e+002  -5.5 1.16e-001 7.24e-002h  1\n",
      "  78 1.5539016e+002 4.58e-001 5.75e-001  -3.8 3.16e+002  -5.1 6.28e-002 1.13e-001h  1\n"
     ]
    },
    {
     "name": "stdout",
     "output_type": "stream",
     "text": [
      "  79 1.5521279e+002 3.46e-001 4.57e-001  -3.8 9.52e+001  -4.7 1.00e+000 2.73e-001h  1\n",
      "iter    objective    inf_pr   inf_du lg(mu)  ||d||  lg(rg) alpha_du alpha_pr  ls\n",
      "  80 1.5505242e+002 8.15e-002 1.32e-001  -3.8 3.74e+001  -4.2 1.00e+000 1.00e+000h  1\n",
      "  81 1.5493811e+002 1.01e-001 1.31e-001  -3.8 2.12e+002  -4.7 2.12e-001 7.92e-002h  1\n",
      "  82 1.5465090e+002 1.74e-001 2.32e-001  -3.8 5.54e+001  -4.3 1.00e+000 7.47e-001h  1\n",
      "  83 1.5456570e+002 1.77e-001 2.33e-001  -3.8 2.83e+002  -4.8 1.04e-001 3.27e-002h  1\n",
      "  84 1.5440037e+002 1.44e-001 1.66e-001  -3.8 4.80e+001  -4.3 4.72e-001 3.36e-001h  1\n",
      "  85 1.5407612e+002 2.49e-001 1.65e-001  -3.8 1.44e+002  -4.8 2.12e-001 2.59e-001h  1\n",
      "  86 1.5371105e+002 4.04e-001 3.14e-001  -3.8 3.83e+002  -5.3 1.31e-001 1.26e-001h  1\n",
      "  87 1.5361938e+002 3.69e-001 2.90e-001  -3.8 1.17e+002  -4.9 5.48e-001 1.03e-001h  1\n",
      "  88 1.5316240e+002 5.61e-001 5.09e-001  -3.8 9.94e+002  -5.3 7.88e-002 6.80e-002f  1\n",
      "  89 1.5309233e+002 1.53e-001 1.12e-001  -3.8 2.79e+001  -4.0 7.90e-001 7.26e-001h  1\n",
      "iter    objective    inf_pr   inf_du lg(mu)  ||d||  lg(rg) alpha_du alpha_pr  ls\n",
      "  90 1.5299821e+002 1.21e-001 8.12e-002  -3.8 5.49e+001  -4.5 1.00e+000 2.44e-001h  1\n",
      "  91 1.5272112e+002 2.39e-001 2.69e-001  -3.8 2.84e+002  -5.0 4.16e-001 1.41e-001h  1\n",
      "  92 1.5245325e+002 2.31e-001 2.68e-001  -3.8 8.00e+001  -4.5 1.00e+000 3.78e-001h  1\n",
      "  93 1.5176265e+002 1.06e+000 7.94e-001  -3.8 2.83e+002  -5.0 6.26e-001 2.85e-001h  1\n",
      "  94 1.5137751e+002 1.03e-001 7.56e-002  -3.8 5.04e+001  -4.6 1.00e+000 9.67e-001h  1\n",
      "  95 1.5101985e+002 3.17e-001 3.11e-001  -3.8 1.51e+002  -5.1 2.86e-001 2.76e-001h  1\n",
      "  96 1.5072360e+002 3.35e-001 4.18e-001  -3.8 1.02e+002  -4.6 9.61e-001 3.73e-001h  1\n",
      "  97 1.5056089e+002 1.46e-001 1.85e-001  -3.8 2.65e+001  -4.2 1.00e+000 6.42e-001h  1\n",
      "  98 1.5014567e+002 2.27e-001 1.68e-001  -3.8 6.36e+001  -4.7 7.34e-001 5.49e-001h  1\n",
      "  99 1.4797758e+002 4.26e+001 1.88e+001  -3.8 1.64e+003  -5.2 7.45e-002 4.05e-001f  1\n",
      "iter    objective    inf_pr   inf_du lg(mu)  ||d||  lg(rg) alpha_du alpha_pr  ls\n",
      " 100 1.4807215e+002 3.20e+001 1.42e+001  -3.8 1.73e+002  -4.8 8.82e-001 2.58e-001h  1\n",
      " 101 1.4847842e+002 2.27e+001 1.07e+001  -3.8 1.78e+002  -4.3 1.00e+000 3.07e-001h  1\n",
      " 102 1.4844996e+002 2.21e+001 1.04e+001  -3.8 2.08e+002  -4.8 5.64e-001 2.29e-002h  1\n",
      " 103 1.4877384e+002 1.30e+001 7.59e+000  -3.8 1.94e+002  -4.4 1.00e+000 4.59e-001h  1\n",
      " 104 1.4865093e+002 1.22e+001 7.13e+000  -3.8 2.19e+002  -4.9 1.77e-001 6.20e-002h  1\n",
      " 105 1.4852236e+002 6.62e+000 4.68e+000  -3.8 2.03e+002  -4.4 3.74e-001 5.37e-001h  1\n",
      " 106 1.4803597e+002 4.97e+000 3.44e+000  -3.8 1.89e+002  -4.9 1.44e-001 2.56e-001h  1\n",
      " 107 1.4790012e+002 4.89e+000 3.38e+000  -3.8 7.15e+002  -5.4 4.78e-002 1.62e-002h  1\n",
      " 108 1.4751706e+002 3.99e+000 2.74e+000  -3.8 1.51e+002  -5.0 3.77e-001 1.86e-001h  1\n",
      " 109 1.4725831e+002 2.62e+000 1.77e+000  -3.8 1.18e+002  -4.5 5.20e-001 3.58e-001h  1\n",
      "iter    objective    inf_pr   inf_du lg(mu)  ||d||  lg(rg) alpha_du alpha_pr  ls\n",
      " 110 1.4714278e+002 2.44e+000 1.65e+000  -3.8 1.09e+002  -5.0 1.00e+000 6.94e-002h  1\n",
      " 111 1.4692075e+002 2.38e+000 1.61e+000  -3.8 9.22e+002  -5.5 4.46e-002 2.10e-002h  1\n",
      " 112 1.4647526e+002 2.11e+000 1.43e+000  -3.8 4.40e+002  -5.1 2.10e-001 1.15e-001h  1\n",
      " 113 1.4617669e+002 1.74e+000 1.18e+000  -3.8 1.17e+002  -4.6 7.41e-001 1.74e-001h  1\n",
      " 114 1.4598942e+002 6.35e-001 4.57e-001  -3.8 5.44e+001  -4.2 1.00e+000 6.56e-001h  1\n",
      " 115 1.4589074e+002 5.24e-001 3.78e-001  -3.8 4.13e+001  -4.7 1.00e+000 1.73e-001h  1\n",
      " 116 1.4560826e+002 3.79e-001 2.87e-001  -3.8 8.17e+001  -5.2 5.42e-001 2.78e-001h  1\n",
      " 117 1.4523743e+002 3.25e-001 4.68e-001  -3.8 2.08e+002  -5.6 2.44e-001 1.71e-001h  1\n",
      " 118 1.4495521e+002 2.67e-001 5.30e-001  -3.8 1.32e+002  -5.2 2.42e-001 1.87e-001h  1\n",
      " 119 1.4467974e+002 1.88e-001 3.87e-001  -3.8 7.20e+001  -4.8 1.00e+000 4.43e-001h  1\n",
      "iter    objective    inf_pr   inf_du lg(mu)  ||d||  lg(rg) alpha_du alpha_pr  ls\n",
      " 120 1.4465595e+002 1.67e-001 3.46e-001  -3.8 2.56e+001  -4.4 1.00e+000 1.15e-001h  1\n",
      " 121 1.4433677e+002 2.78e-001 1.07e+000  -3.8 1.14e+002  -4.8 8.71e-001 3.53e-001h  1\n",
      " 122 1.4416506e+002 9.68e-002 3.18e-001  -3.8 2.89e+001  -4.4 1.00e+000 6.60e-001h  1\n",
      " 123 1.4404553e+002 9.16e-002 2.70e-001  -3.8 6.21e+001  -4.9 8.40e-001 1.67e-001h  1\n",
      " 124 1.4382172e+002 1.02e-001 2.28e-001  -3.8 2.21e+002  -5.4 5.24e-001 1.27e-001h  1\n",
      " 125 1.4158652e+002 2.12e+001 5.30e+000  -3.8 1.11e+004  -5.8 7.85e-005 3.97e-002f  1\n",
      " 126 1.4245413e+002 9.22e+000 2.91e+000  -3.8 1.43e+002  -4.5 6.04e-001 6.36e-001h  1\n",
      " 127 1.4083916e+002 5.63e+000 2.18e+000  -3.8 4.94e+002  -5.0 2.84e-001 2.96e-001h  1\n",
      " 128 1.4087331e+002 4.92e+000 1.90e+000  -3.8 8.68e+001  -4.6 6.63e-001 1.29e-001h  1\n",
      " 129 1.4078471e+002 4.71e+000 1.82e+000  -3.8 1.67e+002  -5.0 5.51e-001 4.36e-002h  1\n",
      "iter    objective    inf_pr   inf_du lg(mu)  ||d||  lg(rg) alpha_du alpha_pr  ls\n",
      " 130 1.4067475e+002 4.69e+000 1.81e+000  -3.8 1.65e+003  -5.5 9.57e-005 4.32e-003h  1\n",
      " 131 1.4016399e+002 1.24e+000 2.56e+000  -3.8 1.84e+002  -5.1 5.16e-001 7.33e-001h  1\n",
      " 132 1.3996161e+002 9.24e-001 1.86e+000  -3.8 6.71e+001  -4.7 3.77e-001 2.54e-001h  1\n",
      " 133 1.4015008e+002 1.18e-001 2.53e-001  -3.8 2.12e+001  -4.2 1.00e+000 8.93e-001h  1\n",
      " 134 1.4003929e+002 8.61e-002 1.84e-001  -3.8 4.17e+001  -4.7 8.41e-001 2.66e-001h  1\n",
      " 135 1.3985576e+002 7.04e-002 2.85e-001  -3.8 1.04e+002  -5.2 1.00e+000 1.76e-001h  1\n",
      " 136 1.3967519e+002 8.16e-002 3.29e-001  -3.8 2.95e+002  -5.7 1.26e-001 5.84e-002h  1\n",
      " 137 1.3886826e+002 1.71e+000 2.23e+000  -3.8 5.20e+002  -6.1 8.23e-002 3.02e-001f  1\n",
      " 138 1.3868699e+002 1.59e+000 2.08e+000  -3.8 1.49e+002  -4.8 4.36e-001 6.98e-002h  1\n",
      " 139 1.3829053e+002 4.80e-002 2.15e-001  -3.8 5.26e+001  -4.4 3.14e-001 1.00e+000h  1\n",
      "iter    objective    inf_pr   inf_du lg(mu)  ||d||  lg(rg) alpha_du alpha_pr  ls\n",
      " 140 1.3826761e+002 4.59e-002 2.07e-001  -3.8 5.41e+001  -4.9 1.00e+000 4.83e-002h  1\n",
      " 141 1.3798177e+002 1.73e-001 3.65e-001  -3.8 1.19e+002  -5.3 6.33e-001 3.71e-001h  1\n",
      " 142 1.3760444e+002 4.11e-001 5.41e-001  -3.8 8.37e+002  -5.8 2.15e-001 7.87e-002h  1\n",
      " 143 1.3481955e+002 4.23e+001 1.52e+001  -3.8 1.02e+004  -5.4 9.82e-004 7.11e-002f  1\n",
      " 144 1.3481467e+002 4.09e+001 1.48e+001  -3.8 2.45e+002  -5.9 4.66e-001 3.24e-002h  1\n",
      " 145 1.3426550e+002 3.50e+001 1.28e+001  -3.8 5.23e+002  -6.4 2.19e-001 1.47e-001h  1\n",
      " 146 1.3435903e+002 3.24e+001 1.19e+001  -3.8 1.96e+002  -5.0 8.19e-001 7.31e-002h  1\n",
      " 147 1.3618838e+002 4.98e+000 3.92e+000  -3.8 2.32e+002  -5.5 1.00e+000 1.00e+000h  1\n",
      " 148 1.3314087e+002 1.17e+001 2.15e+000  -3.8 4.92e+002  -6.0 4.09e-001 1.00e+000h  1\n",
      " 149 1.3077687e+002 8.88e+001 1.84e+001  -3.8 1.30e+003  -5.6 2.87e-001 1.00e+000h  1\n",
      "iter    objective    inf_pr   inf_du lg(mu)  ||d||  lg(rg) alpha_du alpha_pr  ls\n",
      " 150 1.3130381e+002 5.45e+001 1.13e+001  -3.8 3.41e+002  -5.1 1.00e+000 4.03e-001h  1\n",
      " 151 1.3280261e+002 7.02e+000 4.85e+000  -3.8 4.81e+002  -5.6 5.90e-001 1.00e+000h  1\n",
      " 152 1.2966824e+002 1.32e+001 3.03e+000  -3.8 5.58e+002  -6.1 3.76e-002 1.00e+000h  1\n",
      " 153 1.2703825e+002 3.52e+001 1.20e+001  -3.8 1.52e+003  -5.7 6.66e-002 4.03e-001h  1\n",
      " 154 1.2694876e+002 3.19e+001 1.09e+001  -3.8 2.16e+002  -5.2 3.91e-001 9.42e-002h  1\n",
      " 155 1.2932256e+002 2.88e+000 3.30e+000  -3.8 1.98e+002  -4.8 2.04e-001 9.93e-001h  1\n",
      " 156 1.2878904e+002 1.86e+000 2.32e+000  -3.8 2.45e+002  -5.3 1.55e-003 3.77e-001h  1\n",
      " 157 1.2577145e+002 1.74e+001 9.45e+000  -3.8 5.85e+002  -5.8 2.35e-001 1.00e+000h  1\n",
      " 158 1.2390265e+002 3.32e+001 8.41e+000  -3.8 1.01e+003  -6.2 4.11e-001 1.00e+000h  1\n",
      " 159 1.2334232e+002 2.03e+001 6.63e+000  -3.8 8.03e+002  -5.8 1.70e-001 1.00e+000h  1\n",
      "iter    objective    inf_pr   inf_du lg(mu)  ||d||  lg(rg) alpha_du alpha_pr  ls\n",
      " 160 1.2234092e+002 6.83e+000 3.65e+000  -3.8 5.45e+002  -6.3 1.91e-001 5.82e-001h  1\n",
      " 161 1.2006532e+002 1.80e+001 5.49e+000  -3.8 3.63e+003  -5.9 1.85e-002 1.45e-001f  1\n",
      " 162 1.1982542e+002 7.73e+000 2.22e+000  -3.8 5.57e+002  -6.3 1.92e-002 5.70e-001h  1\n",
      " 163 1.1958867e+002 6.90e+000 1.97e+000  -3.8 6.08e+002  -5.9 1.72e-001 9.99e-002h  1\n",
      " 164 1.1934950e+002 4.80e+000 1.37e+000  -3.8 3.63e+002  -5.5 2.45e-001 2.87e-001h  1\n",
      " 165 1.1888559e+002 2.06e+000 1.03e+000  -3.8 3.26e+002  -5.1 1.50e-001 5.13e-001h  1\n",
      " 166 1.1883247e+002 1.61e+000 7.90e-001  -3.8 9.61e+001  -4.6 6.15e-001 2.19e-001h  1\n",
      " 167 1.1755715e+002 3.82e+000 2.44e+000  -3.8 2.80e+002  -5.1 3.00e-001 1.00e+000h  1\n",
      " 168 1.1818294e+002 4.99e-001 6.09e-001  -3.8 7.03e+001  -4.7 1.00e+000 1.00e+000h  1\n",
      " 169 1.1772781e+002 4.77e-001 3.55e-001  -3.8 8.75e+001  -5.2 6.67e-001 1.00e+000h  1\n",
      "iter    objective    inf_pr   inf_du lg(mu)  ||d||  lg(rg) alpha_du alpha_pr  ls\n",
      " 170 1.1573408e+002 2.55e+001 1.06e+001  -3.8 6.14e+002  -5.6 8.29e-002 7.45e-001f  1\n",
      " 171 1.1680625e+002 3.09e+000 1.28e+000  -3.8 2.58e+002  -6.1 3.73e-001 1.00e+000h  1\n",
      " 172 1.1540868e+002 3.61e+000 1.36e+000  -3.8 1.03e+003  -6.6 6.51e-002 2.30e-001h  1\n"
     ]
    },
    {
     "name": "stdout",
     "output_type": "stream",
     "text": [
      " 173 1.1413550e+002 2.99e+000 2.21e+000  -3.8 2.66e+002  -5.3 5.88e-001 1.00e+000h  1\n",
      " 174 1.1273664e+002 6.35e+000 2.65e+000  -3.8 2.42e+002  -4.8 3.04e-001 1.00e+000h  1\n",
      " 175 1.1110901e+002 1.12e+001 4.05e+000  -3.8 6.47e+002  -5.3 2.27e-001 7.33e-001h  1\n",
      " 176 1.1141382e+002 1.04e+001 3.75e+000  -3.8 2.66e+002  -4.9 1.00e+000 7.75e-002h  1\n",
      " 177 1.1197426e+002 8.00e+000 2.73e+000  -3.8 1.25e+002  -4.5 1.00e+000 2.49e-001h  1\n",
      " 178 1.1220166e+002 4.75e+000 1.74e+000  -3.8 1.85e+002  -4.9 4.15e-001 4.16e-001h  1\n",
      " 179 1.0936128e+002 3.26e+001 9.40e+000  -3.8 3.49e+003  -5.4 2.60e-002 1.73e-001f  1\n",
      "iter    objective    inf_pr   inf_du lg(mu)  ||d||  lg(rg) alpha_du alpha_pr  ls\n",
      " 180 1.0807747e+002 1.43e+001 7.18e+000  -3.8 1.33e+003  -5.9 7.75e-002 3.65e-001h  1\n",
      " 181 1.0642474e+002 7.05e+001 2.84e+001  -3.8 1.39e+003  -6.4 5.98e-002 7.64e-001h  1\n",
      " 182 1.0635288e+002 5.83e+001 2.35e+001  -3.8 4.09e+002  -6.8 1.83e-001 1.75e-001h  1\n",
      " 183 1.0638589e+002 4.50e+001 1.84e+001  -3.8 4.47e+002  -7.3 1.42e-001 2.32e-001h  1\n",
      " 184 1.0637837e+002 4.38e+001 1.79e+001  -3.8 4.53e+002  -7.8 1.12e-001 2.79e-002h  1\n",
      " 185 1.0635240e+002 3.84e+001 1.57e+001  -3.8 4.43e+002  -8.3 7.53e-001 1.23e-001h  1\n",
      " 186 1.0633352e+002 3.05e+001 1.26e+001  -3.8 4.32e+002  -8.8 2.08e-001 2.10e-001h  1\n",
      " 187 1.0628260e+002 2.81e+001 1.16e+001  -3.8 4.07e+002  -9.2 6.03e-001 7.90e-002h  1\n",
      " 188 1.0613481e+002 2.04e+001 8.74e+000  -3.8 3.97e+002  -9.7 1.40e-001 2.75e-001h  1\n",
      " 189 1.0569832e+002 1.45e+001 6.67e+000  -3.8 3.87e+002 -10.2 8.95e-002 2.77e-001h  1\n",
      "iter    objective    inf_pr   inf_du lg(mu)  ||d||  lg(rg) alpha_du alpha_pr  ls\n",
      " 190 1.0536345e+002 1.23e+001 5.84e+000  -3.8 5.15e+002  -5.2 1.51e-001 1.40e-001h  1\n",
      " 191 1.0513503e+002 5.64e+000 3.23e+000  -3.8 1.81e+002  -4.8 4.94e-001 5.47e-001h  1\n",
      " 192 1.0486841e+002 4.78e+000 2.76e+000  -3.8 3.00e+002  -5.3 3.28e-001 1.48e-001h  1\n",
      " 193 1.0468252e+002 4.45e+000 2.58e+000  -3.8 4.65e+002  -5.8 1.78e-001 6.86e-002h  1\n",
      " 194 1.0453094e+002 4.36e+000 2.54e+000  -3.8 1.60e+003  -6.3 1.15e-002 1.79e-002h  1\n",
      " 195 1.0447126e+002 4.00e+000 2.33e+000  -3.8 1.22e+002  -4.9 3.05e-002 8.26e-002h  1\n",
      " 196 1.0444081e+002 3.74e+000 2.17e+000  -3.8 5.79e+001  -4.5 4.74e-001 6.64e-002h  1\n",
      " 197 1.0447047e+002 5.37e-001 5.53e-001  -3.8 5.28e+001  -4.1 4.14e-001 8.68e-001h  1\n",
      " 198 1.0429543e+002 6.46e-003 7.61e-002  -3.8 8.58e+000  -3.6 2.75e-001 1.00e+000h  1\n",
      " 199 1.0420222e+002 1.05e-003 2.66e-002  -3.8 2.38e+000  -3.2 7.59e-001 1.00e+000h  1\n",
      "iter    objective    inf_pr   inf_du lg(mu)  ||d||  lg(rg) alpha_du alpha_pr  ls\n",
      " 200 1.0404420e+002 1.03e-002 7.81e-002  -3.8 1.24e+001  -3.7 2.64e-001 4.76e-001f  1\n",
      " 201 1.0374678e+002 5.29e-003 4.78e-002  -3.8 3.93e+000  -3.3 1.00e+000 1.00e+000f  1\n",
      " 202 1.0360769e+002 6.25e-003 5.33e-002  -3.8 1.57e+001  -3.7 2.44e-001 1.39e-001h  1\n",
      " 203 1.0341202e+002 5.95e-003 4.87e-002  -3.8 4.94e+000  -3.3 8.06e-001 5.61e-001f  1\n",
      " 204 1.0320195e+002 7.59e-003 5.86e-002  -3.8 1.36e+001  -3.8 6.84e-002 2.64e-001f  1\n",
      " 205 1.0316013e+002 7.38e-003 7.19e-002  -3.8 3.33e+001  -4.3 2.15e-001 3.59e-002h  1\n",
      " 206 1.0305894e+002 7.01e-003 1.18e-001  -3.8 2.13e+002  -4.8 1.55e-001 3.19e-002f  1\n",
      " 207 1.0282676e+002 1.07e-002 9.91e-002  -3.8 3.31e+001  -4.3 3.67e-002 2.50e-001h  1\n",
      " 208 1.0272181e+002 1.41e-002 9.30e-002  -3.8 1.33e+002  -4.8 5.69e-002 6.14e-002f  1\n",
      " 209 1.0255402e+002 1.49e-002 8.72e-002  -3.8 3.02e+001  -4.4 5.37e-001 2.82e-001f  1\n",
      "iter    objective    inf_pr   inf_du lg(mu)  ||d||  lg(rg) alpha_du alpha_pr  ls\n",
      " 210 1.0253779e+002 1.49e-002 8.63e-002  -3.8 8.36e+001  -4.9 1.88e-001 1.57e-002h  1\n",
      " 211 1.0220504e+002 1.54e-001 4.22e-001  -3.8 4.09e+002  -5.3 7.52e-003 8.83e-002f  1\n",
      " 212 1.0217242e+002 1.47e-001 4.03e-001  -3.8 9.25e+001  -4.9 9.25e-001 4.48e-002h  1\n",
      " 213 1.0191390e+002 2.34e-001 3.85e-001  -3.8 4.60e+002  -5.4 1.14e-001 9.26e-002h  1\n",
      " 214 1.0118835e+002 1.57e+000 8.73e-001  -3.8 1.12e+002  -5.0 8.44e-001 1.00e+000h  1\n",
      " 215 1.0088916e+002 7.74e-001 8.36e-001  -3.8 1.26e+002  -4.5 1.00e+000 5.53e-001h  1\n",
      " 216 1.0079586e+002 6.70e-002 2.18e-001  -3.8 2.75e+001  -4.1 1.00e+000 1.00e+000h  1\n",
      " 217 1.0036707e+002 4.57e-001 4.29e-001  -3.8 5.39e+001  -4.6 7.14e-001 1.00e+000h  1\n",
      " 218 1.0031848e+002 4.38e-001 4.12e-001  -3.8 1.55e+002  -5.1 6.60e-001 4.81e-002h  1\n",
      " 219 9.9599598e+001 8.98e-001 1.22e+000  -3.8 2.83e+002  -5.5 1.62e-001 4.05e-001h  1\n",
      "iter    objective    inf_pr   inf_du lg(mu)  ||d||  lg(rg) alpha_du alpha_pr  ls\n",
      " 220 9.9111329e+001 1.12e+000 1.46e+000  -3.8 9.11e+002  -6.0 1.33e-001 9.44e-002h  1\n",
      " 221 9.7917067e+001 4.99e+000 2.32e+000  -3.8 2.05e+003  -5.6 5.69e-002 1.07e-001f  1\n",
      " 222 9.8372936e+001 2.93e+000 1.31e+000  -3.8 8.84e+001  -4.3 1.00e+000 4.36e-001h  1\n",
      " 223 9.7731482e+001 1.21e+000 1.20e+000  -3.8 1.36e+002  -4.7 3.26e-001 1.00e+000h  1\n",
      " 224 9.7064069e+001 1.43e+000 8.82e-001  -3.8 3.17e+002  -5.2 5.81e-001 3.17e-001h  1\n",
      " 225 9.5988702e+001 3.44e+000 3.20e+000  -3.8 3.77e+002  -5.7 1.43e-001 5.46e-001h  1\n",
      " 226 9.4068018e+001 1.02e+001 1.76e+001  -3.8 5.70e+002  -5.3 3.05e-001 6.93e-001h  1\n",
      " 227 9.4091220e+001 9.84e+000 1.70e+001  -3.8 1.89e+002  -5.7 1.00e+000 3.26e-002h  1\n",
      " 228 9.3764605e+001 3.43e+000 5.43e+000  -3.8 3.15e+002  -6.2 1.46e-001 6.43e-001h  1\n",
      " 229 9.2488687e+001 2.93e+000 3.65e+000  -3.8 4.65e+003  -6.7 1.83e-002 4.13e-002f  1\n",
      "iter    objective    inf_pr   inf_du lg(mu)  ||d||  lg(rg) alpha_du alpha_pr  ls\n",
      " 230 9.2662973e+001 2.48e+000 3.07e+000  -3.8 7.22e+001  -4.5 5.17e-001 1.56e-001h  1\n",
      " 231 9.2273058e+001 1.51e+000 2.85e+000  -3.8 3.17e+002  -4.9 6.63e-002 4.93e-001h  1\n",
      " 232 9.2049459e+001 1.46e+000 2.77e+000  -3.8 1.22e+003  -5.4 1.25e-001 2.11e-002h  1\n",
      " 233 9.1350148e+001 1.58e+000 2.40e+000  -3.8 4.45e+003  -5.9 2.39e-003 1.94e-002f  1\n",
      " 234 9.0403779e+001 1.90e+000 1.89e+000  -3.8 2.07e+004  -6.4 1.05e-002 6.92e-003f  1\n",
      " 235 9.0503720e+001 1.11e+000 7.84e-001  -3.8 2.50e+002  -5.0 1.00e+000 3.81e-001h  1\n",
      " 236 9.0596037e+001 8.76e-001 6.24e-001  -3.8 1.10e+002  -4.6 7.36e-001 2.22e-001h  1\n",
      " 237 9.0729903e+001 7.20e-001 5.16e-001  -3.8 2.68e+001  -4.2 1.00e+000 1.78e-001h  1\n",
      " 238 9.0764939e+001 4.75e-001 1.24e+000  -3.8 1.10e+002  -4.7 1.00e+000 6.63e-001h  1\n",
      " 239 8.9941199e+001 1.54e+000 2.27e+000  -3.8 3.09e+002  -5.1 6.44e-002 3.91e-001h  1\n",
      "iter    objective    inf_pr   inf_du lg(mu)  ||d||  lg(rg) alpha_du alpha_pr  ls\n",
      " 240 8.9633396e+001 1.32e+000 2.07e+000  -3.8 3.04e+002  -5.6 1.21e-001 1.51e-001h  1\n",
      " 241 8.9551551e+001 1.14e+000 1.78e+000  -3.8 1.63e+002  -5.2 8.67e-001 1.35e-001h  1\n",
      " 242 8.8727916e+001 2.15e+000 2.14e+000  -3.8 2.46e+003  -5.7 1.65e-002 5.01e-002f  1\n",
      " 243 8.9406041e+001 3.75e-001 4.25e-001  -3.8 4.40e+001  -4.3 1.00e+000 8.13e-001h  1\n",
      " 244 8.9219416e+001 2.22e-001 3.54e-001  -3.8 7.12e+001  -4.8 1.00e+000 4.64e-001h  1\n",
      " 245 8.8783594e+001 4.79e-001 6.66e-001  -3.8 2.79e+002  -5.3 3.11e-001 1.89e-001h  1\n",
      " 246 8.7737317e+001 1.44e+000 4.23e+000  -3.8 3.31e+002  -5.8 4.00e-001 4.20e-001h  1\n",
      " 247 8.7319366e+001 1.28e+000 2.67e+000  -3.8 2.07e+002  -5.4 5.71e-001 2.89e-001h  1\n",
      " 248 8.7261131e+001 9.43e-001 1.60e+000  -3.8 1.57e+002  -4.9 9.19e-001 3.03e-001h  1\n",
      " 249 8.7553588e+001 3.93e-001 6.35e-001  -3.8 5.07e+001  -4.5 1.00e+000 5.70e-001h  1\n",
      "iter    objective    inf_pr   inf_du lg(mu)  ||d||  lg(rg) alpha_du alpha_pr  ls\n",
      " 250 8.7391223e+001 4.04e-001 7.12e-001  -3.8 3.96e+002  -5.0 1.02e-001 8.54e-002h  1\n",
      " 251 8.7392114e+001 3.79e-001 6.69e-001  -3.8 4.81e+001  -4.5 1.00e+000 6.25e-002h  1\n",
      " 252 8.7240857e+001 3.70e-001 7.42e-001  -3.8 3.90e+002  -5.0 1.31e-001 6.35e-002h  1\n",
      " 253 8.7370865e+001 1.54e-001 6.12e-001  -3.8 4.91e+001  -4.6 1.00e+000 1.00e+000h  1\n",
      " 254 8.7286475e+001 1.71e-001 3.47e-001  -3.8 2.75e+001  -4.2 1.00e+000 8.67e-001h  1\n",
      " 255 8.7049315e+001 2.70e-001 5.05e-001  -3.8 1.02e+002  -4.7 2.66e-001 2.52e-001h  1\n",
      " 256 8.6763619e+001 1.69e-001 3.34e-001  -3.8 5.99e+001  -5.1 6.53e-002 4.85e-001h  1\n",
      " 257 8.6700422e+001 1.68e-001 3.31e-001  -3.8 1.34e+002  -5.6 7.47e-001 6.12e-002h  1\n",
      " 258 8.6607184e+001 1.90e-001 3.86e-001  -3.8 2.60e+002  -6.1 2.19e-001 5.90e-002h  1\n",
      " 259 8.6532827e+001 2.06e-001 4.94e-001  -3.8 1.03e+003  -6.6 4.12e-002 1.17e-002h  1\n",
      "iter    objective    inf_pr   inf_du lg(mu)  ||d||  lg(rg) alpha_du alpha_pr  ls\n",
      " 260 8.6327823e+001 3.07e-001 8.36e-001  -3.8 1.25e+002  -5.2 1.00e+000 3.06e-001h  1\n"
     ]
    },
    {
     "name": "stdout",
     "output_type": "stream",
     "text": [
      " 261 8.6118510e+001 2.84e-001 1.04e+000  -3.8 8.82e+001  -4.8 1.00e+000 3.77e-001h  1\n",
      " 262 8.5977957e+001 9.98e-002 6.14e-001  -3.8 3.43e+001  -4.4 1.00e+000 7.30e-001h  1\n",
      " 263 8.5769900e+001 1.60e-001 9.92e-001  -3.8 1.59e+002  -4.9 1.37e-001 1.63e-001h  1\n",
      " 264 8.5531899e+001 9.88e-002 4.06e-001  -3.8 3.28e+001  -4.4 1.00e+000 1.00e+000h  1\n",
      " 265 8.5219995e+001 1.75e-001 8.24e-001  -3.8 5.72e+001  -4.9 5.88e-001 7.38e-001h  1\n",
      " 266 8.5078730e+001 1.63e-001 7.88e-001  -3.8 8.63e+001  -5.4 5.34e-001 1.95e-001h  1\n",
      " 267 8.5044072e+001 1.59e-001 7.66e-001  -3.8 1.16e+002  -5.9 1.00e+000 3.79e-002h  1\n",
      " 268 8.4764952e+001 3.35e-001 1.39e+000  -3.8 1.28e+002  -6.3 5.53e-001 3.48e-001h  1\n",
      " 269 8.4452760e+001 5.59e-001 1.99e+000  -3.8 1.51e+002  -6.8 1.00e+000 4.25e-001h  1\n",
      "iter    objective    inf_pr   inf_du lg(mu)  ||d||  lg(rg) alpha_du alpha_pr  ls\n",
      " 270 8.4683213e+001 2.50e-002 2.72e-001  -3.8 2.95e+001  -4.6 1.00e+000 1.00e+000h  1\n",
      " 271 8.4679587e+001 2.53e-002 2.64e-001  -3.8 4.47e+001  -5.1 1.00e+000 1.50e-001h  1\n",
      " 272 8.4635876e+001 1.71e-001 1.44e+000  -3.8 2.65e+002  -5.5 5.37e-001 1.46e-001h  1\n",
      " 273 8.4568188e+001 1.31e-002 1.30e-001  -3.8 1.18e+001  -4.2 1.00e+000 1.00e+000h  1\n",
      " 274 8.4451433e+001 1.21e-001 1.19e+000  -3.8 4.05e+001  -4.7 1.00e+000 8.38e-001h  1\n",
      " 275 8.4326578e+001 1.24e-001 1.18e+000  -3.8 1.20e+002  -5.2 2.98e-001 1.06e-001h  1\n",
      " 276 8.4158618e+001 1.55e-001 1.37e+000  -3.8 4.32e+002  -5.6 4.08e-001 4.71e-002h  1\n",
      " 277 8.4038682e+001 1.57e-001 1.32e+000  -3.8 2.19e+002  -6.1 1.05e-001 6.86e-002h  1\n",
      " 278 8.3862809e+001 1.66e-001 9.66e-001  -3.8 9.24e+001  -6.6 1.00e+000 3.60e-001h  1\n",
      " 279 8.3891822e+001 1.29e-001 1.05e+000  -3.8 3.96e+001  -7.1 1.00e+000 1.00e+000h  1\n",
      "iter    objective    inf_pr   inf_du lg(mu)  ||d||  lg(rg) alpha_du alpha_pr  ls\n",
      " 280 8.4083348e+001 3.56e-002 2.85e-001  -3.8 1.92e+001  -7.5 1.00e+000 1.00e+000h  1\n",
      " 281 8.4021988e+001 3.25e-003 1.89e-002  -3.8 6.07e+000  -8.0 1.00e+000 1.00e+000h  1\n",
      " 282 8.4025598e+001 7.11e-007 8.93e-006  -3.8 1.49e-001  -8.5 1.00e+000 1.00e+000h  1\n",
      " 283 8.4017779e+001 2.89e-005 2.29e-004  -5.7 5.26e-001  -9.0 9.97e-001 1.00e+000f  1\n",
      " 284 8.4017734e+001 4.90e-009 3.96e-008  -5.7 6.49e-003  -9.5 1.00e+000 1.00e+000h  1\n",
      " 285 8.4017636e+001 4.70e-009 3.72e-008  -8.6 6.69e-003  -9.9 1.00e+000 1.00e+000h  1\n",
      " 286 8.4017636e+001 2.18e-014 5.68e-014  -8.6 1.23e-006 -10.4 1.00e+000 1.00e+000h  1\n",
      "\n",
      "Number of Iterations....: 286\n",
      "\n",
      "                                   (scaled)                 (unscaled)\n",
      "Objective...............:  8.4017636352190280e+001   8.4017636352190280e+001\n",
      "Dual infeasibility......:  5.6843418860808015e-014   5.6843418860808015e-014\n",
      "Constraint violation....:  2.1760371282653068e-014   2.1760371282653068e-014\n",
      "Complementarity.........:  2.5059048518614675e-009   2.5059048518614675e-009\n",
      "Overall NLP error.......:  2.5059048518614675e-009   2.5059048518614675e-009\n",
      "\n",
      "\n",
      "Number of objective function evaluations             = 288\n",
      "Number of objective gradient evaluations             = 287\n",
      "Number of equality constraint evaluations            = 288\n",
      "Number of inequality constraint evaluations          = 0\n",
      "Number of equality constraint Jacobian evaluations   = 287\n",
      "Number of inequality constraint Jacobian evaluations = 0\n",
      "Number of Lagrangian Hessian evaluations             = 286\n",
      "Total CPU secs in IPOPT (w/o function evaluations)   =      6.308\n",
      "Total CPU secs in NLP function evaluations           =      0.709\n",
      "\n",
      "EXIT: Optimal Solution Found.\n",
      "           S  :   t_proc      (avg)   t_wall      (avg)    n_eval\n",
      "       nlp_f  |   6.00ms ( 20.83us)   5.95ms ( 20.67us)       288\n",
      "       nlp_g  | 137.00ms (475.69us) 137.45ms (477.24us)       288\n",
      "    nlp_grad  |   2.00ms (  2.00ms)   2.02ms (  2.02ms)         1\n",
      "  nlp_grad_f  |  42.00ms (145.83us)  42.09ms (146.16us)       288\n",
      "  nlp_hess_l  | 277.00ms (968.53us) 279.36ms (976.78us)       286\n",
      "   nlp_jac_g  | 239.00ms (829.86us) 244.43ms (848.72us)       288\n",
      "       total  |   7.02 s (  7.02 s)   7.02 s (  7.02 s)         1\n"
     ]
    }
   ],
   "source": [
    "# setup\n",
    "u0 = mpc.make_step(x0)"
   ]
  },
  {
   "cell_type": "code",
   "execution_count": 26,
   "metadata": {},
   "outputs": [
    {
     "data": {
      "image/png": "[encoded data removed]",
      "text/plain": [
       "<Figure size 1152x648 with 5 Axes>"
      ]
     },
     "execution_count": 26,
     "metadata": {},
     "output_type": "execute_result"
    }
   ],
   "source": [
    "# visualisation of open-loop\n",
    "line1, line2 = pendulum_bars(x0)\n",
    "bar1[0].set_data(line1[0],line1[1])\n",
    "bar2[0].set_data(line2[0],line2[1])\n",
    "mpc_graphics.plot_predictions()\n",
    "mpc_graphics.reset_axes()\n",
    "\n",
    "fig"
   ]
  },
  {
   "cell_type": "markdown",
   "metadata": {},
   "source": [
    "### 9.2. Closed-loop simulation\n",
    "\n",
    "* Simulated for $200$ steps"
   ]
  },
  {
   "cell_type": "code",
   "execution_count": 27,
   "metadata": {},
   "outputs": [],
   "source": [
    "%%capture\n",
    "# reset the history of the MPC data object\n",
    "mpc.reset_history()\n",
    "\n",
    "n_steps = 200\n",
    "for k in range(n_steps):\n",
    "    u0 = mpc.make_step(x0)\n",
    "    y_next = simulator.make_step(u0)\n",
    "    x0 = estimator.make_step(y_next)"
   ]
  },
  {
   "cell_type": "code",
   "execution_count": 28,
   "metadata": {},
   "outputs": [],
   "source": [
    "# conversion to gif\n",
    "from matplotlib.animation import FuncAnimation, FFMpegWriter, ImageMagickWriter\n",
    "\n",
    "# The function describing the gif:\n",
    "x_arr = mpc.data['_x']\n",
    "def update(t_ind):\n",
    "    line1, line2 = pendulum_bars(x_arr[t_ind])\n",
    "    bar1[0].set_data(line1[0],line1[1])\n",
    "    bar2[0].set_data(line2[0],line2[1])\n",
    "    mpc_graphics.plot_results(t_ind)\n",
    "    mpc_graphics.plot_predictions(t_ind)\n",
    "    mpc_graphics.reset_axes()\n",
    "\n",
    "# save gif in root folder\n",
    "anim = FuncAnimation(fig, update, frames=n_steps, repeat=False)\n",
    "gif_writer = ImageMagickWriter(fps=20)\n",
    "anim.save('dip.gif', writer=gif_writer)"
   ]
  }
 ],
 "metadata": {
  "kernelspec": {
   "display_name": "Python 3",
   "language": "python",
   "name": "python3"
  },
  "language_info": {
   "codemirror_mode": {
    "name": "ipython",
    "version": 3
   },
   "file_extension": ".py",
   "mimetype": "text/x-python",
   "name": "python",
   "nbconvert_exporter": "python",
   "pygments_lexer": "ipython3",
   "version": "3.7.6"
  }
 },
 "nbformat": 4,
 "nbformat_minor": 4
}
